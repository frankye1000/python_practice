{
 "cells": [
  {
   "cell_type": "code",
   "execution_count": 8,
   "metadata": {},
   "outputs": [
    {
     "name": "stdout",
     "output_type": "stream",
     "text": [
      "             A   B   C   D\n",
      "2017-09-25   0   1   2   3\n",
      "2017-09-26   4   5   6   7\n",
      "2017-09-27   8   9  10  11\n",
      "2017-09-28  12  13  14  15\n",
      "2017-09-29  16  17  18  19\n",
      "2017-09-30  20  21  22  23\n",
      "2017-09-25     0\n",
      "2017-09-26     4\n",
      "2017-09-27     8\n",
      "2017-09-28    12\n",
      "2017-09-29    16\n",
      "2017-09-30    20\n",
      "Freq: D, Name: A, dtype: int32 2017-09-25     0\n",
      "2017-09-26     4\n",
      "2017-09-27     8\n",
      "2017-09-28    12\n",
      "2017-09-29    16\n",
      "2017-09-30    20\n",
      "Freq: D, Name: A, dtype: int32\n",
      "            A  B   C   D\n",
      "2017-09-25  0  1   2   3\n",
      "2017-09-26  4  5   6   7\n",
      "2017-09-27  8  9  10  11 Empty DataFrame\n",
      "Columns: [A, B, C, D]\n",
      "Index: []\n"
     ]
    }
   ],
   "source": [
    "import pandas as pd\n",
    "import numpy as np\n",
    "dates = pd.date_range('20170925',periods=6)\n",
    "df = pd.DataFrame(np.arange(24).reshape((6,4)),index=dates, \n",
    "                  columns=['A','B','C','D'])\n",
    "\n",
    "print(df)\n",
    "print(df['A'],df.A)\n"
   ]
  },
  {
   "cell_type": "code",
   "execution_count": 11,
   "metadata": {},
   "outputs": [
    {
     "name": "stdout",
     "output_type": "stream",
     "text": [
      "            A  B   C   D\n",
      "2017-09-25  0  1   2   3\n",
      "2017-09-26  4  5   6   7\n",
      "2017-09-27  8  9  10  11              A   B   C   D\n",
      "2017-09-27   8   9  10  11\n",
      "2017-09-28  12  13  14  15\n",
      "2017-09-29  16  17  18  19\n"
     ]
    }
   ],
   "source": [
    "import pandas as pd\n",
    "import numpy as np\n",
    "dates = pd.date_range('20170925',periods=6)\n",
    "df = pd.DataFrame(np.arange(24).reshape((6,4)),index=dates, \n",
    "                  columns=['A','B','C','D'])\n",
    "\n",
    "print(df[0:3],df['20170927':'20170929'])"
   ]
  },
  {
   "cell_type": "code",
   "execution_count": 17,
   "metadata": {},
   "outputs": [
    {
     "name": "stdout",
     "output_type": "stream",
     "text": [
      "A    4\n",
      "B    5\n",
      "C    6\n",
      "D    7\n",
      "Name: 2017-09-26 00:00:00, dtype: int32\n",
      "             A   B\n",
      "2017-09-25   0   1\n",
      "2017-09-26   4   5\n",
      "2017-09-27   8   9\n",
      "2017-09-28  12  13\n",
      "2017-09-29  16  17\n",
      "2017-09-30  20  21\n",
      "A    0\n",
      "B    1\n",
      "Name: 2017-09-25 00:00:00, dtype: int32\n"
     ]
    }
   ],
   "source": [
    "import pandas as pd\n",
    "import numpy as np\n",
    "dates = pd.date_range('20170925',periods=6)\n",
    "df = pd.DataFrame(np.arange(24).reshape((6,4)),index=dates, \n",
    "                  columns=['A','B','C','D'])\n",
    "\n",
    "print(df.loc['20170926'])\n",
    "print(df.loc[:,['A','B']])\n",
    "print(df.loc['20170925',['A','B']])\n",
    "\n"
   ]
  },
  {
   "cell_type": "code",
   "execution_count": 23,
   "metadata": {},
   "outputs": [
    {
     "name": "stdout",
     "output_type": "stream",
     "text": [
      "2017-09-26     6\n",
      "2017-09-28    14\n",
      "Freq: 2D, Name: C, dtype: int32\n"
     ]
    }
   ],
   "source": [
    "import pandas as pd\n",
    "import numpy as np\n",
    "dates = pd.date_range('20170925',periods=6)\n",
    "df = pd.DataFrame(np.arange(24).reshape((6,4)),index=dates, \n",
    "                  columns=['A','B','C','D'])\n",
    "\n",
    "#select by position: ilco\n",
    "print(df.iloc[[1,3],2])\n"
   ]
  },
  {
   "cell_type": "code",
   "execution_count": 25,
   "metadata": {},
   "outputs": [
    {
     "name": "stdout",
     "output_type": "stream",
     "text": [
      "            A  B\n",
      "2017-09-25  0  1\n",
      "2017-09-26  4  5\n",
      "2017-09-27  8  9\n"
     ]
    },
    {
     "name": "stderr",
     "output_type": "stream",
     "text": [
      "C:\\Users\\Java\\Anaconda3\\lib\\site-packages\\ipykernel_launcher.py:7: DeprecationWarning: \n",
      ".ix is deprecated. Please use\n",
      ".loc for label based indexing or\n",
      ".iloc for positional indexing\n",
      "\n",
      "See the documentation here:\n",
      "http://pandas.pydata.org/pandas-docs/stable/indexing.html#deprecate_ix\n",
      "  import sys\n"
     ]
    }
   ],
   "source": [
    "import pandas as pd\n",
    "import numpy as np\n",
    "dates = pd.date_range('20170925',periods=6)\n",
    "df = pd.DataFrame(np.arange(24).reshape((6,4)),index=dates, \n",
    "                  columns=['A','B','C','D'])\n",
    "#mixed selection: ix\n",
    "print(df.ix[:3,['A','B']])"
   ]
  },
  {
   "cell_type": "code",
   "execution_count": 27,
   "metadata": {},
   "outputs": [
    {
     "name": "stdout",
     "output_type": "stream",
     "text": [
      "             A   B   C   D\n",
      "2017-09-25   0   1   2   3\n",
      "2017-09-26   4   5   6   7\n",
      "2017-09-27   8   9  10  11\n",
      "2017-09-28  12  13  14  15\n",
      "2017-09-29  16  17  18  19\n",
      "2017-09-30  20  21  22  23\n",
      "             A   B   C   D\n",
      "2017-09-28  12  13  14  15\n",
      "2017-09-29  16  17  18  19\n",
      "2017-09-30  20  21  22  23\n"
     ]
    }
   ],
   "source": [
    "import pandas as pd\n",
    "import numpy as np\n",
    "dates = pd.date_range('20170925',periods=6)\n",
    "df = pd.DataFrame(np.arange(24).reshape((6,4)),index=dates, \n",
    "                  columns=['A','B','C','D'])\n",
    "\n",
    "# Boolean indexing\n",
    "print(df)\n",
    "print(df[df.A > 8])"
   ]
  }
 ],
 "metadata": {
  "kernelspec": {
   "display_name": "Python 3",
   "language": "python",
   "name": "python3"
  },
  "language_info": {
   "codemirror_mode": {
    "name": "ipython",
    "version": 3
   },
   "file_extension": ".py",
   "mimetype": "text/x-python",
   "name": "python",
   "nbconvert_exporter": "python",
   "pygments_lexer": "ipython3",
   "version": "3.6.1"
  }
 },
 "nbformat": 4,
 "nbformat_minor": 2
}
