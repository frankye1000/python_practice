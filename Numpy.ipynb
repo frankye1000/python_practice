{
 "cells": [
  {
   "cell_type": "code",
   "execution_count": 1,
   "metadata": {},
   "outputs": [
    {
     "name": "stdout",
     "output_type": "stream",
     "text": [
      "[[1 2 3]\n",
      " [2 3 4]]\n",
      "number of dim: 2\n",
      "shap: (2, 3)\n",
      "size: 6\n"
     ]
    }
   ],
   "source": [
    "import numpy as np\n",
    "array=np.array([[1,2,3],[2,3,4,]])\n",
    "print(array)\n",
    "print('number of dim:',array.ndim)\n",
    "print('shap:',array.shape)\n",
    "print('size:',array.size)\n",
    "\n"
   ]
  },
  {
   "cell_type": "code",
   "execution_count": 7,
   "metadata": {},
   "outputs": [
    {
     "name": "stdout",
     "output_type": "stream",
     "text": [
      "float64\n"
     ]
    }
   ],
   "source": [
    "import numpy as np\n",
    "a=np.array([2,23,4],dtype=np.float)\n",
    "print(a.dtype)\n",
    "\n"
   ]
  },
  {
   "cell_type": "code",
   "execution_count": 14,
   "metadata": {},
   "outputs": [
    {
     "name": "stdout",
     "output_type": "stream",
     "text": [
      "[[ 2 23  4]\n",
      " [ 2 32  5]]\n",
      "[[ 0.  0.  0.  0.]\n",
      " [ 0.  0.  0.  0.]\n",
      " [ 0.  0.  0.  0.]]\n",
      "[[1 1 1 1]\n",
      " [1 1 1 1]\n",
      " [1 1 1 1]]\n",
      "[[ 0.  0.  0.  0.]\n",
      " [ 0.  0.  0.  0.]\n",
      " [ 0.  0.  0.  0.]]\n"
     ]
    }
   ],
   "source": [
    "import numpy as np\n",
    "a=np.array([[2,23,4],\n",
    "            [2,32,5]])\n",
    "b=np.zeros((3,4))\n",
    "c=np.ones((3,4),dtype=np.int)\n",
    "d=np.empty((3,4))\n",
    "\n",
    "print(a)\n",
    "print(b)\n",
    "print(c)\n",
    "print(d)"
   ]
  },
  {
   "cell_type": "code",
   "execution_count": 23,
   "metadata": {},
   "outputs": [
    {
     "name": "stdout",
     "output_type": "stream",
     "text": [
      "[10 12 14 16 18]\n",
      "[[ 0  2  4  6]\n",
      " [ 8 10 12 14]\n",
      " [16 18 20 22]\n",
      " [24 26 28 30]\n",
      " [32 34 36 38]]\n"
     ]
    }
   ],
   "source": [
    "import numpy as np\n",
    "\n",
    "a=np.arange(10,20,2)\n",
    "b=np.arange(0,40,2).reshape((5,4))\n",
    "\n",
    "print(a)\n",
    "print(b)"
   ]
  },
  {
   "cell_type": "code",
   "execution_count": 29,
   "metadata": {},
   "outputs": [
    {
     "name": "stdout",
     "output_type": "stream",
     "text": [
      "[[  1.    2.8   4.6]\n",
      " [  6.4   8.2  10. ]]\n"
     ]
    }
   ],
   "source": [
    "import numpy as np\n",
    "a=np.linspace(1,10,6).reshape((2,3))\n",
    "print(a)"
   ]
  },
  {
   "cell_type": "code",
   "execution_count": 38,
   "metadata": {},
   "outputs": [
    {
     "name": "stdout",
     "output_type": "stream",
     "text": [
      "[10 20 30 40] [0 1 2 3]\n",
      "[-8.39071529  4.08082062  1.5425145  -6.66938062]\n"
     ]
    }
   ],
   "source": [
    "import numpy as np\n",
    "a = np.array([10,20,30,40])\n",
    "b = np.arange(4)\n",
    "print(a,b)\n",
    "c=10*np.cos(a)\n",
    "print(c)"
   ]
  },
  {
   "cell_type": "code",
   "execution_count": 42,
   "metadata": {},
   "outputs": [
    {
     "name": "stdout",
     "output_type": "stream",
     "text": [
      "[0 1 2 3]\n",
      "[False False False  True]\n"
     ]
    }
   ],
   "source": [
    "import numpy as np\n",
    "a = np.array([10,20,30,40])\n",
    "b = np.arange(4)\n",
    "print(b)\n",
    "print(b==3)"
   ]
  },
  {
   "cell_type": "code",
   "execution_count": 51,
   "metadata": {},
   "outputs": [
    {
     "name": "stdout",
     "output_type": "stream",
     "text": [
      "[[1 1]\n",
      " [0 1]]\n",
      "[[0 1]\n",
      " [2 3]]\n",
      "[[0 1]\n",
      " [0 3]]\n",
      "[[2 4]\n",
      " [2 3]]\n",
      "[[2 4]\n",
      " [2 3]]\n"
     ]
    }
   ],
   "source": [
    "import numpy as np\n",
    "a = np.array([[1,1],\n",
    "              [0,1]])\n",
    "\n",
    "b = np.arange(4).reshape((2,2))\n",
    "print(a)\n",
    "print(b)\n",
    "\n",
    "\n",
    "c = a*b #逐個元素運算\n",
    "c_dot = np.dot(a,b)#矩陣運算\n",
    "c_dot_2 = a.dot(b)#意思就是說a跟b做矩陣運算\n",
    "print(c)\n",
    "print(c_dot)\n",
    "print(c_dot_2)\n"
   ]
  },
  {
   "cell_type": "code",
   "execution_count": 55,
   "metadata": {},
   "outputs": [
    {
     "name": "stdout",
     "output_type": "stream",
     "text": [
      "[[ 0.1257997   0.73621504  0.12380393  0.69277979]\n",
      " [ 0.90925613  0.45288827  0.59346925  0.44733684]]\n",
      "[ 1.67859845  2.40295048]\n",
      "[ 0.1257997   0.45288827  0.12380393  0.44733684]\n",
      "[ 0.73621504  0.90925613]\n"
     ]
    }
   ],
   "source": [
    "import numpy as np\n",
    "a=np.random.random((2,4))\n",
    "print(a)\n",
    "print(np.sum(a,axis=1))\n",
    "print(np.min(a,axis=0))\n",
    "print(np.max(a,axis=1))\n",
    "\n"
   ]
  },
  {
   "cell_type": "code",
   "execution_count": 2,
   "metadata": {},
   "outputs": [
    {
     "name": "stdout",
     "output_type": "stream",
     "text": [
      "0\n",
      "11\n",
      "7.5\n",
      "7.5\n",
      "7.5\n",
      "7.5\n",
      "[[ 2  3  4  5  6  7]\n",
      " [ 8  9 10 11 12 13]]\n",
      "[ 2  5  9 14 20 27 35 44 54 65 77 90]\n",
      "[[1 1 1 1 1]\n",
      " [1 1 1 1 1]]\n",
      "(array([0, 0, 0, 0, 0, 0, 1, 1, 1, 1, 1, 1], dtype=int64), array([0, 1, 2, 3, 4, 5, 0, 1, 2, 3, 4, 5], dtype=int64))\n",
      "[[13 12 11 10]\n",
      " [ 9  8  7  6]\n",
      " [ 5  4  3  2]]\n",
      "[[10 11 12 13]\n",
      " [ 6  7  8  9]\n",
      " [ 2  3  4  5]]\n",
      "[[13  9  5]\n",
      " [12  8  4]\n",
      " [11  7  3]\n",
      " [10  6  2]]\n",
      "[[13  9  5]\n",
      " [12  8  4]\n",
      " [11  7  3]\n",
      " [10  6  2]]\n",
      "[[275 248 221 194]\n",
      " [248 224 200 176]\n",
      " [221 200 179 158]\n",
      " [194 176 158 140]]\n",
      "[[13 12 11 10]\n",
      " [ 9  8  7  6]\n",
      " [ 5  4  3  2]]\n",
      "[[9 9 9 9]\n",
      " [9 8 7 6]\n",
      " [5 5 5 5]]\n",
      "[[13 12 11 10]\n",
      " [ 9  8  7  6]\n",
      " [ 5  4  3  2]]\n",
      "[ 9.  8.  7.  6.]\n",
      "[ 11.5   7.5   3.5]\n"
     ]
    }
   ],
   "source": [
    "import numpy as np\n",
    "A = np.arange(2,14).reshape((2,6))\n",
    "print(np.argmin(A))\n",
    "print(np.argmax(A))#索引的最大值\n",
    "print(np.mean(A))  \n",
    "print(A.mean())    #平均值\n",
    "print(np.median(A))#中位數\n",
    "print(np.average(A))#平均值\n",
    "\n",
    "print(A)\n",
    "print(np.cumsum(A))#累加\n",
    "print(np.diff(A))  #每一個的差\n",
    "print(np.nonzero(A))#代表第0行第0列的數字是非零，以此類推\n",
    "\n",
    "B=np.arange(13,1,-1).reshape((3,4))\n",
    "print(B)\n",
    "print(np.sort(B))#每一列排序\n",
    "\n",
    "print(np.transpose(B))#行列互換\n",
    "print(B.T)\n",
    "print((B.T).dot(B))\n",
    "\n",
    "print(B)\n",
    "print(np.clip(B,5,9))#所有大於9的數，都變成9，所有小於5的數，都變成5\n",
    "\n",
    "print(B)\n",
    "print(np.mean(B,axis=0))#0就是對於每行做平均\n",
    "print(np.mean(B,axis=1))#0就是對於每列做平均\n",
    "\n",
    "\n"
   ]
  },
  {
   "cell_type": "code",
   "execution_count": 14,
   "metadata": {},
   "outputs": [
    {
     "name": "stdout",
     "output_type": "stream",
     "text": [
      "[ 3  4  5  6  7  8  9 10 11 12 13 14]\n",
      "6\n",
      "[[ 3  4  5  6]\n",
      " [ 7  8  9 10]\n",
      " [11 12 13 14]]\n",
      "[11 12 13 14]\n",
      "8\n",
      "8\n",
      "[ 5  9 13]\n",
      "[7 8]\n"
     ]
    }
   ],
   "source": [
    "import numpy as np\n",
    "A = np.arange(3,15)\n",
    "print(A)\n",
    "print(A[3]) #印第三個值\n",
    "\n",
    "B = np.arange(3,15).reshape((3,4))\n",
    "print(B)\n",
    "print(B[2])\n",
    "print(B[1][1]) #索引指定值\n",
    "print(B[1,1])  #索引指定值\n",
    "print(B[:,2])  #所以第三列所有數\n",
    "print(B[1,0:2])#索引第二列從第一個數到第三個數\n",
    "\n"
   ]
  },
  {
   "cell_type": "code",
   "execution_count": 20,
   "metadata": {},
   "outputs": [
    {
     "name": "stdout",
     "output_type": "stream",
     "text": [
      "[[ 3  4  5  6]\n",
      " [ 7  8  9 10]\n",
      " [11 12 13 14]]\n",
      "[3 4 5 6]\n",
      "[ 7  8  9 10]\n",
      "[11 12 13 14]\n",
      "[ 3  7 11]\n",
      "[ 4  8 12]\n",
      "[ 5  9 13]\n",
      "[ 6 10 14]\n",
      "[ 3  4  5  6  7  8  9 10 11 12 13 14]\n",
      "3\n",
      "4\n",
      "5\n",
      "6\n",
      "7\n",
      "8\n",
      "9\n",
      "10\n",
      "11\n",
      "12\n",
      "13\n",
      "14\n"
     ]
    }
   ],
   "source": [
    "C = np.arange(3,15).reshape((3,4))\n",
    "print(C)\n",
    "\n",
    "for row in C:\n",
    "    print(row)\n",
    "                #因為numpy不能印出colume，所以\n",
    "for row in C.T: #把矩陣轉至，然後就可以印出colume\n",
    "    print(row)\n",
    "\n",
    "print(C.flatten())\n",
    "\n",
    "for item in C.flat:\n",
    "    print(item)\n",
    "    \n"
   ]
  },
  {
   "cell_type": "code",
   "execution_count": 33,
   "metadata": {},
   "outputs": [
    {
     "name": "stdout",
     "output_type": "stream",
     "text": [
      "[[1]\n",
      " [1]\n",
      " [1]\n",
      " [2]\n",
      " [2]\n",
      " [2]]\n",
      "[[1 1 1]\n",
      " [2 2 2]]\n",
      "[1 1 1 2 2 2]\n",
      "(3,) (2, 3) (6,)\n",
      "[[1]\n",
      " [1]\n",
      " [1]]\n"
     ]
    }
   ],
   "source": [
    "#array合併\n",
    "import numpy as np\n",
    "\n",
    "A = np.array([1,1,1])\n",
    "B = np.array([2,2,2])\n",
    "C = np.vstack((A,B))#vertical stack\n",
    "D = np.hstack((A,B))#horizontal stack\n",
    "E = A[:,np.newaxis] #讓橫向陣列變成縱向陣列\n",
    "F = B[:,np.newaxis]\n",
    "\n",
    "\n",
    "print(np.vstack((E,F)))\n",
    "print(C)\n",
    "print(D)\n",
    "print(A.shape,C.shape,D.shape)\n",
    "print(E)\n",
    "\n"
   ]
  },
  {
   "cell_type": "code",
   "execution_count": 40,
   "metadata": {},
   "outputs": [
    {
     "name": "stdout",
     "output_type": "stream",
     "text": [
      "[[1]\n",
      " [1]\n",
      " [1]]\n",
      "[[1 2 2 1]\n",
      " [1 2 2 1]\n",
      " [1 2 2 1]]\n"
     ]
    }
   ],
   "source": [
    "#array合併\n",
    "import numpy as np\n",
    "\n",
    "A = np.array([1,1,1])[:,np.newaxis]\n",
    "B = np.array([2,2,2])[:,np.newaxis]\n",
    "print(A)\n",
    "C = np.concatenate((A,B,B,A),axis = 1)#axis=0縱向合併，axis=1橫向合併\n",
    "print(C)"
   ]
  }
 ],
 "metadata": {
  "kernelspec": {
   "display_name": "Python 3",
   "language": "python",
   "name": "python3"
  },
  "language_info": {
   "codemirror_mode": {
    "name": "ipython",
    "version": 3
   },
   "file_extension": ".py",
   "mimetype": "text/x-python",
   "name": "python",
   "nbconvert_exporter": "python",
   "pygments_lexer": "ipython3",
   "version": "3.6.1"
  }
 },
 "nbformat": 4,
 "nbformat_minor": 2
}
