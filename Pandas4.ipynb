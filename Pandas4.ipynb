{
 "cells": [
  {
   "cell_type": "code",
   "execution_count": 19,
   "metadata": {
    "scrolled": true
   },
   "outputs": [
    {
     "name": "stdout",
     "output_type": "stream",
     "text": [
      "   NO student  grade\n",
      "0   1       A     85\n",
      "1   2       B     56\n",
      "2   3       C     45\n",
      "3   4       D     78\n",
      "4   5       E     98\n",
      "5   6       F     25\n",
      "6   7       G     65\n",
      "7   8       H     44\n",
      "8   9       I     22\n",
      "9  10       J     33\n",
      "0    85\n",
      "1    56\n",
      "2    45\n",
      "3    78\n",
      "4    98\n",
      "5    25\n",
      "6    65\n",
      "7    44\n",
      "8    22\n",
      "9    33\n",
      "Name: grade, dtype: int64\n"
     ]
    }
   ],
   "source": [
    "import pandas as pd\n",
    "\n",
    "data = pd.read_csv('csv/student.csv')\n",
    "print(data)\n",
    "print(data[\"grade\"])\n",
    "\n",
    "#data.to_pickle('student.pickle')\n"
   ]
  },
  {
   "cell_type": "code",
   "execution_count": 23,
   "metadata": {},
   "outputs": [
    {
     "name": "stdout",
     "output_type": "stream",
     "text": [
      "     a    b    c    d\n",
      "0  0.0  0.0  0.0  0.0\n",
      "1  0.0  0.0  0.0  0.0\n",
      "2  0.0  0.0  0.0  0.0\n",
      "     a    b    c    d\n",
      "0  1.0  1.0  1.0  1.0\n",
      "1  1.0  1.0  1.0  1.0\n",
      "2  1.0  1.0  1.0  1.0\n",
      "     a    b    c    d\n",
      "0  2.0  2.0  2.0  2.0\n",
      "1  2.0  2.0  2.0  2.0\n",
      "2  2.0  2.0  2.0  2.0\n",
      "     a    b    c    d\n",
      "0  0.0  0.0  0.0  0.0\n",
      "1  0.0  0.0  0.0  0.0\n",
      "2  0.0  0.0  0.0  0.0\n",
      "3  1.0  1.0  1.0  1.0\n",
      "4  1.0  1.0  1.0  1.0\n",
      "5  1.0  1.0  1.0  1.0\n",
      "6  2.0  2.0  2.0  2.0\n",
      "7  2.0  2.0  2.0  2.0\n",
      "8  2.0  2.0  2.0  2.0\n"
     ]
    }
   ],
   "source": [
    "import pandas as pd\n",
    "import numpy as np\n",
    "\n",
    "#concatenating\n",
    "df1 = pd.DataFrame(np.ones((3,4))*0,columns=['a','b','c','d'])\n",
    "df2 = pd.DataFrame(np.ones((3,4))*1,columns=['a','b','c','d'])\n",
    "df3 = pd.DataFrame(np.ones((3,4))*2,columns=['a','b','c','d'])\n",
    "print(df1)\n",
    "print(df2)\n",
    "print(df3)\n",
    "res = pd.concat([df1,df2,df3],axis=0,ignore_index=True)\n",
    "print(res)"
   ]
  },
  {
   "cell_type": "code",
   "execution_count": 31,
   "metadata": {},
   "outputs": [
    {
     "name": "stdout",
     "output_type": "stream",
     "text": [
      "     a    b    c    d\n",
      "1  0.0  0.0  0.0  0.0\n",
      "2  0.0  0.0  0.0  0.0\n",
      "3  0.0  0.0  0.0  0.0\n",
      "     b    c    d    e\n",
      "2  1.0  1.0  1.0  1.0\n",
      "3  1.0  1.0  1.0  1.0\n",
      "4  1.0  1.0  1.0  1.0\n",
      "     a    b    c    d    e\n",
      "1  0.0  0.0  0.0  0.0  NaN\n",
      "2  0.0  0.0  0.0  0.0  NaN\n",
      "3  0.0  0.0  0.0  0.0  NaN\n",
      "2  NaN  1.0  1.0  1.0  1.0\n",
      "3  NaN  1.0  1.0  1.0  1.0\n",
      "4  NaN  1.0  1.0  1.0  1.0\n",
      "     b    c    d\n",
      "0  0.0  0.0  0.0\n",
      "1  0.0  0.0  0.0\n",
      "2  0.0  0.0  0.0\n",
      "3  1.0  1.0  1.0\n",
      "4  1.0  1.0  1.0\n",
      "5  1.0  1.0  1.0\n"
     ]
    }
   ],
   "source": [
    "import pandas as pd\n",
    "import numpy as np\n",
    "\n",
    "#join, ['inner','outer']\n",
    "df1 = pd.DataFrame(np.ones((3,4))*0,columns=['a','b','c','d'], index=[1,2,3])\n",
    "df2 = pd.DataFrame(np.ones((3,4))*1,columns=['b','c','d','e'], index=[2,3,4])\n",
    "print(df1)\n",
    "print(df2)\n",
    "\n",
    "res = pd.concat([df1,df2], join='outer')\n",
    "res1 = pd.concat([df1,df2], join='inner',ignore_index=True)\n",
    "print(res)\n",
    "print(res1)\n",
    "\n"
   ]
  },
  {
   "cell_type": "code",
   "execution_count": 38,
   "metadata": {},
   "outputs": [
    {
     "name": "stdout",
     "output_type": "stream",
     "text": [
      "     a    b    c    d    b    c    d    e\n",
      "1  0.0  0.0  0.0  0.0  NaN  NaN  NaN  NaN\n",
      "2  0.0  0.0  0.0  0.0  1.0  1.0  1.0  1.0\n",
      "3  0.0  0.0  0.0  0.0  1.0  1.0  1.0  1.0\n"
     ]
    }
   ],
   "source": [
    "import pandas as pd\n",
    "import numpy as np\n",
    "\n",
    "#join_axes\n",
    "df1 = pd.DataFrame(np.ones((3,4))*0,columns=['a','b','c','d'], index=[1,2,3])\n",
    "df2 = pd.DataFrame(np.ones((3,4))*1,columns=['b','c','d','e'], index=[2,3,4])\n",
    "res = pd.concat([df1,df2], axis=1, join_axes=[df1.index])\n",
    "print(res)"
   ]
  },
  {
   "cell_type": "code",
   "execution_count": 44,
   "metadata": {},
   "outputs": [
    {
     "name": "stdout",
     "output_type": "stream",
     "text": [
      "     a    b    c    d\n",
      "0  0.0  0.0  0.0  0.0\n",
      "1  0.0  0.0  0.0  0.0\n",
      "2  0.0  0.0  0.0  0.0\n",
      "3  1.0  1.0  1.0  1.0\n",
      "4  1.0  1.0  1.0  1.0\n",
      "5  1.0  1.0  1.0  1.0\n",
      "6  2.0  2.0  2.0  2.0\n",
      "7  2.0  2.0  2.0  2.0\n",
      "8  2.0  2.0  2.0  2.0\n"
     ]
    }
   ],
   "source": [
    "import pandas as pd\n",
    "import numpy as np\n",
    "\n",
    "#append\n",
    "df1 = pd.DataFrame(np.ones((3,4))*0,columns=['a','b','c','d'])\n",
    "df2 = pd.DataFrame(np.ones((3,4))*1,columns=['a','b','c','d'])\n",
    "df3 = pd.DataFrame(np.ones((3,4))*2,columns=['a','b','c','d'])\n",
    "\n",
    "res = df1.append([df2,df3], ignore_index=True)\n",
    "\n",
    "\n",
    "\n",
    "\n",
    "print(res)"
   ]
  },
  {
   "cell_type": "code",
   "execution_count": 48,
   "metadata": {},
   "outputs": [
    {
     "name": "stdout",
     "output_type": "stream",
     "text": [
      "      a     b     c     d\n",
      "0   0.0   0.0   0.0   0.0\n",
      "1   0.0   0.0   0.0   0.0\n",
      "2   0.0   0.0   0.0   0.0\n",
      "3   1.0   2.0   3.0   4.0\n",
      "4   5.0   6.0   7.0   8.0\n",
      "5  10.0  20.0  30.0  40.0\n",
      "6  11.0  22.0  33.0  44.0\n"
     ]
    }
   ],
   "source": [
    "import pandas as pd\n",
    "import numpy as np\n",
    "\n",
    "#append\n",
    "df1 = pd.DataFrame(np.ones((3,4))*0,columns=['a','b','c','d'])\n",
    "s1 = pd.Series([1,2,3,4], index=['a','b','c','d'])\n",
    "s2 = pd.Series([5,6,7,8], index=['a','b','c','d'])\n",
    "s3 = pd.Series([10,20,30,40], index=['a','b','c','d'])\n",
    "s4 = pd.Series([11,22,33,44], index=['a','b','c','d'])\n",
    "res = df1.append([s1,s2,s3,s4], ignore_index=True)\n",
    "print(res)"
   ]
  },
  {
   "cell_type": "code",
   "execution_count": 51,
   "metadata": {},
   "outputs": [
    {
     "name": "stdout",
     "output_type": "stream",
     "text": [
      "    A   B key\n",
      "0  A0  B0  K0\n",
      "1  A1  B1  K1\n",
      "2  A2  B2  K2\n",
      "3  A3  B3  K3\n",
      "    C   D key\n",
      "0  C0  D0  K0\n",
      "1  C1  D1  K1\n",
      "2  C2  D2  K2\n",
      "3  C3  D3  K3\n",
      "    A   B key   C   D\n",
      "0  A0  B0  K0  C0  D0\n",
      "1  A1  B1  K1  C1  D1\n",
      "2  A2  B2  K2  C2  D2\n",
      "3  A3  B3  K3  C3  D3\n"
     ]
    }
   ],
   "source": [
    "import pandas as pd\n",
    "import numpy as np\n",
    "\n",
    "#merging two df by key/keys.(may be used in database)\n",
    "#simple example\n",
    "left = pd.DataFrame({'key':['K0','K1','K2','K3'],\n",
    "                     'A':['A0','A1','A2','A3'],\n",
    "                     'B':['B0','B1','B2','B3']})\n",
    "right = pd.DataFrame({'key':['K0','K1','K2','K3'],\n",
    "                     'C':['C0','C1','C2','C3'],\n",
    "                     'D':['D0','D1','D2','D3']})\n",
    "\n",
    "print(left)\n",
    "print(right)\n",
    "res = pd.merge(left,right,on='key')\n",
    "print(res)"
   ]
  },
  {
   "cell_type": "code",
   "execution_count": 63,
   "metadata": {},
   "outputs": [
    {
     "name": "stdout",
     "output_type": "stream",
     "text": [
      "    A   B key1 key2\n",
      "0  A0  B0   K0   K0\n",
      "1  A1  B1   K0   K1\n",
      "2  A2  B2   K1   K0\n",
      "3  A3  B3   K2   K1\n",
      "    C   D key1 key2\n",
      "0  C0  D0   K0   K0\n",
      "1  C1  D1   K1   K0\n",
      "2  C2  D2   K1   K0\n",
      "3  C3  D3   K2   K0\n",
      "    A   B key1 key2    C    D\n",
      "0  A0  B0   K0   K0   C0   D0\n",
      "1  A1  B1   K0   K1  NaN  NaN\n",
      "2  A2  B2   K1   K0   C1   D1\n",
      "3  A2  B2   K1   K0   C2   D2\n",
      "4  A3  B3   K2   K1  NaN  NaN\n"
     ]
    }
   ],
   "source": [
    "import pandas as pd\n",
    "import numpy as np\n",
    "\n",
    "#merging two df by key/keys.(may be used in database)\n",
    "#consider two keys\n",
    "left = pd.DataFrame({'key1':['K0','K0','K1','K2'],\n",
    "                     'key2':['K0','K1','K0','K1'],\n",
    "                     'A':['A0','A1','A2','A3'],\n",
    "                     'B':['B0','B1','B2','B3']})\n",
    "right = pd.DataFrame({'key1':['K0','K1','K1','K2'],\n",
    "                      'key2':['K0','K0','K0','K0'],\n",
    "                     'C':['C0','C1','C2','C3'],\n",
    "                     'D':['D0','D1','D2','D3']})\n",
    "\n",
    "print(left)\n",
    "print(right)\n",
    "#how=['left','right','outer','inner',]\n",
    "res = pd.merge(left,right,on=['key1','key2'], how='left')\n",
    "print(res)\n",
    "\n"
   ]
  },
  {
   "cell_type": "code",
   "execution_count": 68,
   "metadata": {},
   "outputs": [
    {
     "name": "stdout",
     "output_type": "stream",
     "text": [
      "   col1 col_left\n",
      "0     0        a\n",
      "1     1        b\n",
      "   col1  col_right\n",
      "0     1          2\n",
      "1     2          2\n",
      "2     2          2\n",
      "   col1 col_left  col_right indicator_column\n",
      "0     0        a        NaN        left_only\n",
      "1     1        b        2.0             both\n",
      "2     2      NaN        2.0       right_only\n",
      "3     2      NaN        2.0       right_only\n"
     ]
    }
   ],
   "source": [
    "import pandas as pd\n",
    "import numpy as np\n",
    "\n",
    "#merging two df by key/keys.(may be used in database)\n",
    "#indicator\n",
    "df1 = pd.DataFrame({'col1':[0,1],'col_left':['a','b']})\n",
    "df2 = pd.DataFrame({'col1':[1,2,2],'col_right':[2,2,2]})\n",
    "print(df1)\n",
    "print(df2)\n",
    "#res = pd.merge(df1, df2, on='col1', how='outer', indicator=True)\n",
    "#give the indicator a custom name\n",
    "res = pd.merge(df1,df2, on='col1', how='outer', indicator='indicator_column' )\n",
    "print(res)"
   ]
  },
  {
   "cell_type": "code",
   "execution_count": 75,
   "metadata": {},
   "outputs": [
    {
     "name": "stdout",
     "output_type": "stream",
     "text": [
      "     A   B\n",
      "K0  A0  B0\n",
      "K1  A1  B1\n",
      "K2  A2  B2\n",
      "     C   D\n",
      "K0  C0  D0\n",
      "K2  C1  D1\n",
      "K3  C2  D2\n",
      "     A   B   C   D\n",
      "K0  A0  B0  C0  D0\n",
      "K2  A2  B2  C1  D1\n"
     ]
    }
   ],
   "source": [
    "import pandas as pd\n",
    "import numpy as np\n",
    "\n",
    "#merging two df by key/keys.(may be used in database)\n",
    "#merged by index\n",
    "left = pd.DataFrame({'A':['A0','A1','A2'],\n",
    "                     'B':['B0','B1','B2']},\n",
    "                      index=['K0','K1','K2'])\n",
    "right = pd.DataFrame({'C':['C0','C1','C2'],\n",
    "                     'D':['D0','D1','D2']},\n",
    "                      index=['K0','K2','K3'])\n",
    "\n",
    "print(left)\n",
    "print(right)\n",
    "#left_index and right_index\n",
    "#res = pd.merge(left,right,left_index=True,right_index=True, how='outer')\n",
    "res = pd.merge(left,right,left_index=True,right_index=True, how='inner')\n",
    "print(res)"
   ]
  },
  {
   "cell_type": "code",
   "execution_count": 78,
   "metadata": {
    "scrolled": true
   },
   "outputs": [
    {
     "name": "stdout",
     "output_type": "stream",
     "text": [
      "   age   k\n",
      "0   10  K0\n",
      "1   20  K1\n",
      "2   30  K2\n",
      "   age   k\n",
      "0   40  K0\n",
      "1   50  K0\n",
      "2   60  K3\n",
      "   age_boy   k  age_girl\n",
      "0     10.0  K0      40.0\n",
      "1     10.0  K0      50.0\n",
      "2     20.0  K1       NaN\n",
      "3     30.0  K2       NaN\n",
      "4      NaN  K3      60.0\n"
     ]
    }
   ],
   "source": [
    "import pandas as pd\n",
    "import numpy as np\n",
    "\n",
    "#merging two df by key/keys.(may be used in database)\n",
    "#handle overlapping\n",
    "boys = pd.DataFrame({'k':['K0','K1','K2'], 'age':[10,20,30]})\n",
    "girls = pd.DataFrame({'k':['K0','K0','K3'], 'age':[40,50,60]})\n",
    "\n",
    "res = pd.merge(boys, girls, on='k',suffixes=['_boy','_girl'],how='outer' )\n",
    "print(boys)\n",
    "print(girls)\n",
    "print(res)"
   ]
  }
 ],
 "metadata": {
  "kernelspec": {
   "display_name": "Python 3",
   "language": "python",
   "name": "python3"
  },
  "language_info": {
   "codemirror_mode": {
    "name": "ipython",
    "version": 3
   },
   "file_extension": ".py",
   "mimetype": "text/x-python",
   "name": "python",
   "nbconvert_exporter": "python",
   "pygments_lexer": "ipython3",
   "version": "3.6.1"
  }
 },
 "nbformat": 4,
 "nbformat_minor": 2
}
