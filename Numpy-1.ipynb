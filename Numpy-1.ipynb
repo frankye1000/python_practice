{
 "cells": [
  {
   "cell_type": "code",
   "execution_count": 9,
   "metadata": {},
   "outputs": [
    {
     "name": "stdout",
     "output_type": "stream",
     "text": [
      "[[ 0  1  2  3]\n",
      " [ 4  5  6  7]\n",
      " [ 8  9 10 11]]\n",
      "[array([[0, 1, 2, 3]]), array([[4, 5, 6, 7]]), array([[ 8,  9, 10, 11]])]\n",
      "[array([[0, 1],\n",
      "       [4, 5],\n",
      "       [8, 9]]), array([[ 2],\n",
      "       [ 6],\n",
      "       [10]]), array([[ 3],\n",
      "       [ 7],\n",
      "       [11]])]\n",
      "[array([[0, 1, 2, 3]]), array([[4, 5, 6, 7]]), array([[ 8,  9, 10, 11]])]\n",
      "[array([[0, 1],\n",
      "       [4, 5],\n",
      "       [8, 9]]), array([[ 2,  3],\n",
      "       [ 6,  7],\n",
      "       [10, 11]])]\n"
     ]
    }
   ],
   "source": [
    "#array分割\n",
    "\n",
    "import numpy as np\n",
    "\n",
    "A = np.arange(12).reshape((3,4))\n",
    "\n",
    "print(A)\n",
    "\n",
    "print(np.split(A, 3, axis=0))#對橫向進行分割成三塊\n",
    "print(np.array_split(A, 3, axis=1))#不等量分割\n",
    "\n",
    "print(np.vsplit(A,3))         #對縱向分割\n",
    "print(np.hsplit(A,2))         #對橫向分割\n"
   ]
  },
  {
   "cell_type": "code",
   "execution_count": 23,
   "metadata": {},
   "outputs": [
    {
     "name": "stdout",
     "output_type": "stream",
     "text": [
      "[0 1 2 3]\n",
      "[11  1  2  3]\n",
      "[11  1  2  3]\n",
      "[11  1  2  3]\n",
      "[11 22 33  3]\n",
      "[11 22 33  3]\n",
      "[11 22 33  3]\n",
      "[       11        22        33 555555555]\n",
      "[11 22 33  3]\n"
     ]
    }
   ],
   "source": [
    "#array copy\n",
    "import numpy as np\n",
    "a = np.arange(4)\n",
    "print(a)\n",
    "\n",
    "b = a\n",
    "c = a\n",
    "d = b\n",
    "\n",
    "a[0] = 11\n",
    "print(a)\n",
    "b is a\n",
    "\n",
    "print(b)\n",
    "print(d)\n",
    "\n",
    "d[1:3]=[22,33]\n",
    "print(d)\n",
    "print(a)\n",
    "\n",
    "b = a.copy() #deep copy \n",
    "print(b)\n",
    "a[3] = 555555 #a的更動不會影響到b\n",
    "print(a)\n",
    "print(b)"
   ]
  }
 ],
 "metadata": {
  "kernelspec": {
   "display_name": "Python 3",
   "language": "python",
   "name": "python3"
  },
  "language_info": {
   "codemirror_mode": {
    "name": "ipython",
    "version": 3
   },
   "file_extension": ".py",
   "mimetype": "text/x-python",
   "name": "python",
   "nbconvert_exporter": "python",
   "pygments_lexer": "ipython3",
   "version": "3.6.1"
  }
 },
 "nbformat": 4,
 "nbformat_minor": 2
}
