{
 "cells": [
  {
   "cell_type": "code",
   "execution_count": 50,
   "metadata": {},
   "outputs": [],
   "source": [
    "import pandas \n",
    "dfs = pandas.read_html('http://rate.bot.com.tw/xrt?Lang=zh-TW')"
   ]
  },
  {
   "cell_type": "code",
   "execution_count": 51,
   "metadata": {},
   "outputs": [
    {
     "data": {
      "text/plain": [
       "1"
      ]
     },
     "execution_count": 51,
     "metadata": {},
     "output_type": "execute_result"
    }
   ],
   "source": [
    "len(dfs)"
   ]
  },
  {
   "cell_type": "code",
   "execution_count": 52,
   "metadata": {},
   "outputs": [
    {
     "data": {
      "text/plain": [
       "list"
      ]
     },
     "execution_count": 52,
     "metadata": {},
     "output_type": "execute_result"
    }
   ],
   "source": [
    "type(dfs)"
   ]
  },
  {
   "cell_type": "code",
   "execution_count": 53,
   "metadata": {},
   "outputs": [],
   "source": [
    "currency = dfs[0]"
   ]
  },
  {
   "cell_type": "code",
   "execution_count": 54,
   "metadata": {},
   "outputs": [
    {
     "data": {
      "text/plain": [
       "pandas.core.frame.DataFrame"
      ]
     },
     "execution_count": 54,
     "metadata": {},
     "output_type": "execute_result"
    }
   ],
   "source": [
    "type(currency)"
   ]
  },
  {
   "cell_type": "code",
   "execution_count": 55,
   "metadata": {},
   "outputs": [
    {
     "name": "stderr",
     "output_type": "stream",
     "text": [
      "C:\\Users\\Java\\Anaconda3\\lib\\site-packages\\ipykernel_launcher.py:1: DeprecationWarning: \n",
      ".ix is deprecated. Please use\n",
      ".loc for label based indexing or\n",
      ".iloc for positional indexing\n",
      "\n",
      "See the documentation here:\n",
      "http://pandas.pydata.org/pandas-docs/stable/indexing.html#deprecate_ix\n",
      "  \"\"\"Entry point for launching an IPython kernel.\n"
     ]
    }
   ],
   "source": [
    "currency = currency.ix[:,0:5]"
   ]
  },
  {
   "cell_type": "code",
   "execution_count": 56,
   "metadata": {},
   "outputs": [],
   "source": [
    "currency.columns=[u'幣別',u'現金匯率-本行買入',u'現金匯率-本行賣出',\n",
    "                  u'即期匯率-本行買入',u'即期匯率-本行賣出']"
   ]
  },
  {
   "cell_type": "code",
   "execution_count": 61,
   "metadata": {},
   "outputs": [],
   "source": [
    "currency.to_excel('currency.xlsx')"
   ]
  },
  {
   "cell_type": "code",
   "execution_count": 60,
   "metadata": {},
   "outputs": [
    {
     "data": {
      "text/html": [
       "<div>\n",
       "<style>\n",
       "    .dataframe thead tr:only-child th {\n",
       "        text-align: right;\n",
       "    }\n",
       "\n",
       "    .dataframe thead th {\n",
       "        text-align: left;\n",
       "    }\n",
       "\n",
       "    .dataframe tbody tr th {\n",
       "        vertical-align: top;\n",
       "    }\n",
       "</style>\n",
       "<table border=\"1\" class=\"dataframe\">\n",
       "  <thead>\n",
       "    <tr style=\"text-align: right;\">\n",
       "      <th></th>\n",
       "      <th>幣別</th>\n",
       "      <th>現金匯率-本行買入</th>\n",
       "      <th>現金匯率-本行賣出</th>\n",
       "      <th>即期匯率-本行買入</th>\n",
       "      <th>即期匯率-本行賣出</th>\n",
       "    </tr>\n",
       "  </thead>\n",
       "  <tbody>\n",
       "    <tr>\n",
       "      <th>0</th>\n",
       "      <td>美金 (USD)  美金 (USD)</td>\n",
       "      <td>30.02</td>\n",
       "      <td>30.562</td>\n",
       "      <td>30.32</td>\n",
       "      <td>30.42</td>\n",
       "    </tr>\n",
       "    <tr>\n",
       "      <th>1</th>\n",
       "      <td>港幣 (HKD)  港幣 (HKD)</td>\n",
       "      <td>3.74</td>\n",
       "      <td>3.935</td>\n",
       "      <td>3.86</td>\n",
       "      <td>3.92</td>\n",
       "    </tr>\n",
       "    <tr>\n",
       "      <th>2</th>\n",
       "      <td>英鎊 (GBP)  英鎊 (GBP)</td>\n",
       "      <td>38.64</td>\n",
       "      <td>40.57</td>\n",
       "      <td>39.51</td>\n",
       "      <td>39.93</td>\n",
       "    </tr>\n",
       "    <tr>\n",
       "      <th>3</th>\n",
       "      <td>澳幣 (AUD)  澳幣 (AUD)</td>\n",
       "      <td>23.32</td>\n",
       "      <td>23.98</td>\n",
       "      <td>23.51</td>\n",
       "      <td>23.74</td>\n",
       "    </tr>\n",
       "    <tr>\n",
       "      <th>4</th>\n",
       "      <td>加拿大幣 (CAD)  加拿大幣 (CAD)</td>\n",
       "      <td>23.75</td>\n",
       "      <td>24.49</td>\n",
       "      <td>24.02</td>\n",
       "      <td>24.24</td>\n",
       "    </tr>\n",
       "    <tr>\n",
       "      <th>5</th>\n",
       "      <td>新加坡幣 (SGD)  新加坡幣 (SGD)</td>\n",
       "      <td>21.72</td>\n",
       "      <td>22.5</td>\n",
       "      <td>22.14</td>\n",
       "      <td>22.32</td>\n",
       "    </tr>\n",
       "    <tr>\n",
       "      <th>6</th>\n",
       "      <td>瑞士法郎 (CHF)  瑞士法郎 (CHF)</td>\n",
       "      <td>30.31</td>\n",
       "      <td>31.37</td>\n",
       "      <td>30.84</td>\n",
       "      <td>31.13</td>\n",
       "    </tr>\n",
       "    <tr>\n",
       "      <th>7</th>\n",
       "      <td>日圓 (JPY)  日圓 (JPY)</td>\n",
       "      <td>0.2604</td>\n",
       "      <td>0.2714</td>\n",
       "      <td>0.2668</td>\n",
       "      <td>0.2708</td>\n",
       "    </tr>\n",
       "    <tr>\n",
       "      <th>8</th>\n",
       "      <td>南非幣 (ZAR)  南非幣 (ZAR)</td>\n",
       "      <td>-</td>\n",
       "      <td>-</td>\n",
       "      <td>2.17</td>\n",
       "      <td>2.25</td>\n",
       "    </tr>\n",
       "    <tr>\n",
       "      <th>9</th>\n",
       "      <td>瑞典幣 (SEK)  瑞典幣 (SEK)</td>\n",
       "      <td>3.34</td>\n",
       "      <td>3.85</td>\n",
       "      <td>3.68</td>\n",
       "      <td>3.78</td>\n",
       "    </tr>\n",
       "    <tr>\n",
       "      <th>10</th>\n",
       "      <td>紐元 (NZD)  紐元 (NZD)</td>\n",
       "      <td>21.26</td>\n",
       "      <td>21.89</td>\n",
       "      <td>21.5</td>\n",
       "      <td>21.7</td>\n",
       "    </tr>\n",
       "    <tr>\n",
       "      <th>11</th>\n",
       "      <td>泰幣 (THB)  泰幣 (THB)</td>\n",
       "      <td>0.8041</td>\n",
       "      <td>0.9471</td>\n",
       "      <td>0.8926</td>\n",
       "      <td>0.9326</td>\n",
       "    </tr>\n",
       "    <tr>\n",
       "      <th>12</th>\n",
       "      <td>菲國比索 (PHP)  菲國比索 (PHP)</td>\n",
       "      <td>0.5447</td>\n",
       "      <td>0.6777</td>\n",
       "      <td>-</td>\n",
       "      <td>-</td>\n",
       "    </tr>\n",
       "    <tr>\n",
       "      <th>13</th>\n",
       "      <td>印尼幣 (IDR)  印尼幣 (IDR)</td>\n",
       "      <td>0.00188</td>\n",
       "      <td>0.00258</td>\n",
       "      <td>-</td>\n",
       "      <td>-</td>\n",
       "    </tr>\n",
       "    <tr>\n",
       "      <th>14</th>\n",
       "      <td>歐元 (EUR)  歐元 (EUR)</td>\n",
       "      <td>34.82</td>\n",
       "      <td>35.97</td>\n",
       "      <td>35.32</td>\n",
       "      <td>35.72</td>\n",
       "    </tr>\n",
       "    <tr>\n",
       "      <th>15</th>\n",
       "      <td>韓元 (KRW)  韓元 (KRW)</td>\n",
       "      <td>0.02486</td>\n",
       "      <td>0.02876</td>\n",
       "      <td>-</td>\n",
       "      <td>-</td>\n",
       "    </tr>\n",
       "    <tr>\n",
       "      <th>16</th>\n",
       "      <td>越南盾 (VND)  越南盾 (VND)</td>\n",
       "      <td>0.00096</td>\n",
       "      <td>0.00146</td>\n",
       "      <td>-</td>\n",
       "      <td>-</td>\n",
       "    </tr>\n",
       "    <tr>\n",
       "      <th>17</th>\n",
       "      <td>馬來幣 (MYR)  馬來幣 (MYR)</td>\n",
       "      <td>6.11</td>\n",
       "      <td>7.68</td>\n",
       "      <td>-</td>\n",
       "      <td>-</td>\n",
       "    </tr>\n",
       "    <tr>\n",
       "      <th>18</th>\n",
       "      <td>人民幣 (CNY)  人民幣 (CNY)</td>\n",
       "      <td>4.466</td>\n",
       "      <td>4.628</td>\n",
       "      <td>4.538</td>\n",
       "      <td>4.588</td>\n",
       "    </tr>\n",
       "  </tbody>\n",
       "</table>\n",
       "</div>"
      ],
      "text/plain": [
       "                        幣別 現金匯率-本行買入 現金匯率-本行賣出 即期匯率-本行買入 即期匯率-本行賣出\n",
       "0       美金 (USD)  美金 (USD)     30.02    30.562     30.32     30.42\n",
       "1       港幣 (HKD)  港幣 (HKD)      3.74     3.935      3.86      3.92\n",
       "2       英鎊 (GBP)  英鎊 (GBP)     38.64     40.57     39.51     39.93\n",
       "3       澳幣 (AUD)  澳幣 (AUD)     23.32     23.98     23.51     23.74\n",
       "4   加拿大幣 (CAD)  加拿大幣 (CAD)     23.75     24.49     24.02     24.24\n",
       "5   新加坡幣 (SGD)  新加坡幣 (SGD)     21.72      22.5     22.14     22.32\n",
       "6   瑞士法郎 (CHF)  瑞士法郎 (CHF)     30.31     31.37     30.84     31.13\n",
       "7       日圓 (JPY)  日圓 (JPY)    0.2604    0.2714    0.2668    0.2708\n",
       "8     南非幣 (ZAR)  南非幣 (ZAR)         -         -      2.17      2.25\n",
       "9     瑞典幣 (SEK)  瑞典幣 (SEK)      3.34      3.85      3.68      3.78\n",
       "10      紐元 (NZD)  紐元 (NZD)     21.26     21.89      21.5      21.7\n",
       "11      泰幣 (THB)  泰幣 (THB)    0.8041    0.9471    0.8926    0.9326\n",
       "12  菲國比索 (PHP)  菲國比索 (PHP)    0.5447    0.6777         -         -\n",
       "13    印尼幣 (IDR)  印尼幣 (IDR)   0.00188   0.00258         -         -\n",
       "14      歐元 (EUR)  歐元 (EUR)     34.82     35.97     35.32     35.72\n",
       "15      韓元 (KRW)  韓元 (KRW)   0.02486   0.02876         -         -\n",
       "16    越南盾 (VND)  越南盾 (VND)   0.00096   0.00146         -         -\n",
       "17    馬來幣 (MYR)  馬來幣 (MYR)      6.11      7.68         -         -\n",
       "18    人民幣 (CNY)  人民幣 (CNY)     4.466     4.628     4.538     4.588"
      ]
     },
     "execution_count": 60,
     "metadata": {},
     "output_type": "execute_result"
    }
   ],
   "source": [
    "currency"
   ]
  }
 ],
 "metadata": {
  "kernelspec": {
   "display_name": "Python 3",
   "language": "python",
   "name": "python3"
  },
  "language_info": {
   "codemirror_mode": {
    "name": "ipython",
    "version": 3
   },
   "file_extension": ".py",
   "mimetype": "text/x-python",
   "name": "python",
   "nbconvert_exporter": "python",
   "pygments_lexer": "ipython3",
   "version": "3.6.1"
  }
 },
 "nbformat": 4,
 "nbformat_minor": 2
}
