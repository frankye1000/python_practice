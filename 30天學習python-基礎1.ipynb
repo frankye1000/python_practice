{
 "cells": [
  {
   "cell_type": "code",
   "execution_count": 5,
   "metadata": {},
   "outputs": [
    {
     "name": "stdout",
     "output_type": "stream",
     "text": [
      "     groups  irons\n",
      "0       Web     46\n",
      "1    DevOps      5\n",
      "2     cloud      8\n",
      "3  Big Data     41\n",
      "4  Security     58\n",
      "5     自我挑戰組      4\n",
      "groups    object\n",
      "irons      int64\n",
      "dtype: object\n"
     ]
    }
   ],
   "source": [
    "import pandas as pd\n",
    "\n",
    "groups = [\"Web\",\"DevOps\",\"cloud\",\"Big Data\",\"Security\",\"自我挑戰組\"]\n",
    "irons = [46,5,8,41,58,4]\n",
    "\n",
    "irons_dict = {\"groups\" : groups,\n",
    "             \"irons\" : irons}\n",
    "irons_df = pd.DataFrame(irons_dict)\n",
    "\n",
    "print(irons_df)\n",
    "print(irons_df.dtypes)"
   ]
  },
  {
   "cell_type": "code",
   "execution_count": 14,
   "metadata": {},
   "outputs": [
    {
     "name": "stdout",
     "output_type": "stream",
     "text": [
      "     groups  irons\n",
      "0       web     50\n",
      "1      java     47\n",
      "2        UI     12\n",
      "3  Big Data     25\n",
      "4        IE     34\n",
      "----------------------\n",
      "0    50\n",
      "Name: irons, dtype: int64\n",
      "----------------------\n",
      "  groups  irons\n",
      "0    web     50\n",
      "----------------------\n",
      "0    50\n",
      "1    47\n",
      "2    12\n",
      "3    25\n",
      "4    34\n",
      "Name: irons, dtype: int64\n",
      "----------------------\n",
      "0    50\n",
      "1    47\n",
      "2    12\n",
      "3    25\n",
      "4    34\n",
      "Name: irons, dtype: int64\n",
      "----------------------\n",
      "0    50\n",
      "1    47\n",
      "2    12\n",
      "3    25\n",
      "4    34\n",
      "Name: irons, dtype: int64\n"
     ]
    }
   ],
   "source": [
    "# Pandas 透過使用中括號 [] 與 .iloc 可以很靈活地從 data frame 中選擇想要的元素。\n",
    "# 要注意的是 Python 在指定 0:1 時不包含 1，在指定 0:2 時不包含 2，\n",
    "# 這一點是跟 R 語言有很大的不同之處。\n",
    "\n",
    "import pandas as pd\n",
    "\n",
    "groups = [\"web\",\"java\",\"UI\",\"Big Data\",\"IE\"]\n",
    "irons = [50,47,12,25,34]\n",
    "\n",
    "irons_dic = {\"groups\":groups,\n",
    "            \"irons\":irons}\n",
    "irons_df = pd.DataFrame(irons_dic)\n",
    "print(irons_df)\n",
    "print(\"----------------------\")\n",
    "print(irons_df.iloc[0:1,1]) # 第一列第二欄：Modern Web 組的鐵人數\n",
    "print(\"----------------------\")\n",
    "print(irons_df.iloc[0:1,:]) # 第一列：Modern Web 組的組名與鐵人數\n",
    "print(\"----------------------\")\n",
    "print(irons_df.iloc[:,1])   # 第二欄：各組的鐵人數\n",
    "print(\"----------------------\")\n",
    "print(irons_df[\"irons\"])    # 第二欄：各組的鐵人數\n",
    "print(\"----------------------\")\n",
    "print(irons_df.irons)       # 第二欄：各組的鐵人數"
   ]
  },
  {
   "cell_type": "code",
   "execution_count": 16,
   "metadata": {},
   "outputs": [
    {
     "name": "stdout",
     "output_type": "stream",
     "text": [
      "     groups  irons\n",
      "0       web     50\n",
      "1      java     47\n",
      "3  Big Data     25\n",
      "4        IE     34\n"
     ]
    }
   ],
   "source": [
    "#Pandas 可以透過布林值來針對 data frame 進行觀測值的篩選。\n",
    "\n",
    "import pandas as pd\n",
    "\n",
    "groups = [\"web\",\"java\",\"UI\",\"Big Data\",\"IE\"]\n",
    "irons = [50,47,8,25,34]\n",
    "\n",
    "irons_dic = {\"groups\":groups,\n",
    "            \"irons\":irons}\n",
    "irons_df = pd.DataFrame(irons_dic)\n",
    "\n",
    "print(irons_df[irons_df.loc[:,\"irons\"]>10]) # 選出鐵人數超過 10 的 data frame"
   ]
  },
  {
   "cell_type": "code",
   "execution_count": 21,
   "metadata": {},
   "outputs": [
    {
     "name": "stdout",
     "output_type": "stream",
     "text": [
      "(5, 2)\n",
      "---------------------\n",
      "           irons\n",
      "count   5.000000\n",
      "mean   32.800000\n",
      "std    17.137678\n",
      "min     8.000000\n",
      "25%    25.000000\n",
      "50%    34.000000\n",
      "75%    47.000000\n",
      "max    50.000000\n",
      "---------------------\n",
      "  groups  irons\n",
      "0    web     50\n",
      "1   java     47\n",
      "2     UI      8\n",
      "---------------------\n",
      "     groups  irons\n",
      "2        UI      8\n",
      "3  Big Data     34\n",
      "4        IE     25\n",
      "---------------------\n",
      "Index(['groups', 'irons'], dtype='object')\n",
      "---------------------\n",
      "RangeIndex(start=0, stop=5, step=1)\n"
     ]
    }
   ],
   "source": [
    "#Pandas 的 data frame 資料結構有一些方法或屬性可以幫助我們了解概觀。\n",
    "\n",
    "import pandas as pd\n",
    "\n",
    "groups = [\"web\",\"java\",\"UI\",\"Big Data\",\"IE\"]\n",
    "irons = [50,47,8,34,25]\n",
    "\n",
    "irons_dic = {\"groups\":groups,\n",
    "            \"irons\":irons}\n",
    "irons_df = pd.DataFrame(irons_dic)\n",
    "\n",
    "print(irons_df.shape) # 回傳列數與欄數\n",
    "print(\"---------------------\")\n",
    "print(irons_df.describe()) # 回傳描述性統計\n",
    "print(\"---------------------\")\n",
    "print(irons_df.head(3)) # 回傳前三筆觀測值\n",
    "print(\"---------------------\")\n",
    "print(irons_df.tail(3)) # 回傳後三筆觀測值\n",
    "print(\"---------------------\")\n",
    "print(irons_df.columns) # 回傳欄位名稱\n",
    "print(\"---------------------\")\n",
    "print(irons_df.index) # 回傳 index"
   ]
  },
  {
   "cell_type": "code",
   "execution_count": 23,
   "metadata": {},
   "outputs": [
    {
     "name": "stdout",
     "output_type": "stream",
     "text": [
      "14\n",
      "58\n",
      "4\n",
      "5\n",
      "8\n",
      "95\n"
     ]
    }
   ],
   "source": [
    "irons = [14,58,4,5,8,95]\n",
    "print(irons[0])\n",
    "print(irons[1])\n",
    "print(irons[2])\n",
    "print(irons[3])\n",
    "print(irons[4])\n",
    "print(irons[5])"
   ]
  },
  {
   "cell_type": "code",
   "execution_count": 28,
   "metadata": {},
   "outputs": [
    {
     "name": "stdout",
     "output_type": "stream",
     "text": [
      "14\n",
      "58\n",
      "4\n",
      "5\n",
      "8\n",
      "95\n",
      "---------------\n",
      "95\n"
     ]
    }
   ],
   "source": [
    "#for 迴圈\n",
    "#不帶索引值的寫法\n",
    "irons = [14,58,4,5,8,95]\n",
    "\n",
    "for irons in irons:\n",
    "    print(irons)\n",
    "print(\"---------------\")\n",
    "print(irons)  # 把迴圈的迭代器（iterator）或稱游標（cursor）最後的值印出來看看\n",
    "\n",
    "\n",
    "\n"
   ]
  },
  {
   "cell_type": "code",
   "execution_count": 85,
   "metadata": {},
   "outputs": [
    {
     "name": "stdout",
     "output_type": "stream",
     "text": [
      "14\n",
      "58\n",
      "4\n",
      "5\n",
      "8\n",
      "95\n",
      "--------------------\n",
      "5\n"
     ]
    }
   ],
   "source": [
    "#for 迴圈\n",
    "#帶索引值的寫法\n",
    "irons = [14,58,4,5,8,95]\n",
    "\n",
    "for index in list(range(0,len(irons))):\n",
    "    print(irons[index])\n",
    "print(\"--------------------\")\n",
    "print(index) # 把迴圈的迭代器（iterator）或稱游標（cursor）最後的值印出來看看"
   ]
  },
  {
   "cell_type": "code",
   "execution_count": 31,
   "metadata": {},
   "outputs": [
    {
     "name": "stdout",
     "output_type": "stream",
     "text": [
      "58\n",
      "7\n",
      "45\n",
      "2\n",
      "56\n",
      "4\n",
      "----------------------\n",
      "6\n"
     ]
    }
   ],
   "source": [
    "#while 迴圈\n",
    "irons = [58,7,45,2,56,4]\n",
    "index = 0\n",
    "while index<len(irons):\n",
    "    print(irons[index])\n",
    "    index+=1\n",
    "print(\"----------------------\")\n",
    "print(index)"
   ]
  },
  {
   "cell_type": "code",
   "execution_count": 42,
   "metadata": {},
   "outputs": [
    {
     "name": "stdout",
     "output_type": "stream",
     "text": [
      "1 是奇數\n",
      "2 是偶數\n",
      "3 是奇數\n",
      "4 是偶數\n",
      "5 是奇數\n",
      "6 是偶數\n",
      "7 是奇數\n",
      "8 是偶數\n",
      "9 是奇數\n",
      "10 是偶數\n"
     ]
    }
   ],
   "source": [
    "#Python 的流程控制\n",
    "#Python 透過 if-elif-else 的結構創造程式執行的分支，\n",
    "#當我們只有兩個分支，使用 if-else 就足夠，\n",
    "#值得一提的是 Python 沒有類似像 switch 或是 case 的多分支結構。\n",
    "\n",
    "my_list = list(range(1,11))\n",
    "for index in list(range(1,11)):\n",
    "    if (index%2==0):\n",
    "        print(index,\"是偶數\")\n",
    "    else:\n",
    "        print(index,\"是奇數\")\n",
    "        \n"
   ]
  },
  {
   "cell_type": "code",
   "execution_count": 44,
   "metadata": {},
   "outputs": [
    {
     "name": "stdout",
     "output_type": "stream",
     "text": [
      "1 不能被整除,餘數是1\n",
      "2 不能被整除,餘數是2\n",
      "3 可以被3整除\n",
      "4 不能被整除,餘數是1\n",
      "5 不能被整除,餘數是2\n",
      "6 可以被3整除\n",
      "7 不能被整除,餘數是1\n",
      "8 不能被整除,餘數是2\n",
      "9 可以被3整除\n",
      "10 不能被整除,餘數是1\n",
      "11 不能被整除,餘數是2\n",
      "12 可以被3整除\n",
      "13 不能被整除,餘數是1\n",
      "14 不能被整除,餘數是2\n"
     ]
    }
   ],
   "source": [
    "#if-elif-else\n",
    "#整數除以 3 的餘數會有三種答案，使用 if-elif-else 結構依照餘數的值回傳對應的訊息。\n",
    "\n",
    "my_list=list(range(1,15))\n",
    "for index in list(range(1,15)):\n",
    "    if index%3 == 0:\n",
    "        print(index,\"可以被3整除\")\n",
    "    elif index%3 ==1:\n",
    "        print(index,\"不能被整除,餘數是1\")\n",
    "    else :\n",
    "        print(index,\"不能被整除,餘數是2\")"
   ]
  },
  {
   "cell_type": "code",
   "execution_count": 47,
   "metadata": {},
   "outputs": [
    {
     "name": "stdout",
     "output_type": "stream",
     "text": [
      "14\n",
      "15\n",
      "----------------\n",
      "6\n"
     ]
    }
   ],
   "source": [
    "#Python 的 break 與 continue\n",
    "#利用 break 描述告訴 for 迴圈當迭代器（此處指變數 irons）小於 10 的時候要結束迴圈；\n",
    "\n",
    "\n",
    "# break 描述\n",
    "irons = [14,15,6,7,8,125,58]\n",
    "for iron in irons:\n",
    "    if(iron<10):\n",
    "        break\n",
    "    else:\n",
    "        print(iron)\n",
    "print(\"----------------\")\n",
    "print(iron)"
   ]
  },
  {
   "cell_type": "code",
   "execution_count": 51,
   "metadata": {},
   "outputs": [
    {
     "name": "stdout",
     "output_type": "stream",
     "text": [
      "14\n",
      "15\n",
      "125\n",
      "58\n",
      "----------------\n",
      "58\n"
     ]
    }
   ],
   "source": [
    "#利用 continue 描述告訴 for 迴圈當迭代器小於 10 的時候要跳過它然後繼續執行。\n",
    "#continue 描述\n",
    "irons = [14,15,6,7,8,125,58]\n",
    "for iron in irons:\n",
    "    if(iron<10):\n",
    "        continue\n",
    "    else:\n",
    "        print(iron)\n",
    "print(\"----------------\")\n",
    "print(iron)"
   ]
  },
  {
   "cell_type": "code",
   "execution_count": 53,
   "metadata": {},
   "outputs": [
    {
     "name": "stdout",
     "output_type": "stream",
     "text": [
      "545\n",
      "12\n",
      "6\n",
      "[12, 15, 45, 58, 91, 545]\n",
      "[545, 91, 58, 45, 15, 12]\n"
     ]
    }
   ],
   "source": [
    "irons = [15,58,91,45,12,545]\n",
    "\n",
    "# 應用函數\n",
    "print(max(irons)) # 最多的鐵人數\n",
    "print(min(irons)) # 最少的鐵人數\n",
    "print(len(irons)) # 總共有幾組\n",
    "print(sorted(irons)) # 遞增排序\n",
    "print(sorted(irons, reverse = True)) # 遞減排序"
   ]
  },
  {
   "cell_type": "code",
   "execution_count": 54,
   "metadata": {},
   "outputs": [
    {
     "name": "stdout",
     "output_type": "stream",
     "text": [
      "Help on built-in function sorted in module builtins:\n",
      "\n",
      "sorted(iterable, /, *, key=None, reverse=False)\n",
      "    Return a new list containing all items from the iterable in ascending order.\n",
      "    \n",
      "    A custom key function can be supplied to customize the sort order, and the\n",
      "    reverse flag can be set to request the result in descending order.\n",
      "\n"
     ]
    }
   ],
   "source": [
    "#查詢函數文件\n",
    "sorted?\n",
    "help(sorted)"
   ]
  },
  {
   "cell_type": "code",
   "execution_count": null,
   "metadata": {
    "collapsed": true
   },
   "outputs": [],
   "source": [
    "Python 的自訂函數\n",
    "Python 自訂函數的架構：\n",
    "def function_name(輸入, 參數 1, 參數 2, ...):\n",
    "    '''\n",
    "    Docstrings\n",
    "    '''\n",
    "    # 函數做些什麼事\n",
    "    return 結果"
   ]
  },
  {
   "cell_type": "code",
   "execution_count": 59,
   "metadata": {},
   "outputs": [
    {
     "name": "stdout",
     "output_type": "stream",
     "text": [
      "28.274333882308138\n"
     ]
    }
   ],
   "source": [
    "#計算圓形的面積或周長\n",
    "\n",
    "#第一個練習是輸入圓形的半徑長，依照參數的指定回傳面積。\n",
    "\n",
    "import math #要用到math套件\n",
    "def circle_area(radius):\n",
    "    circle_area = math.pi*radius**2\n",
    "    return circle_area\n",
    "\n",
    "#呼叫函式\n",
    "print(circle_area(3))\n",
    "    "
   ]
  },
  {
   "cell_type": "code",
   "execution_count": 65,
   "metadata": {},
   "outputs": [
    {
     "name": "stdout",
     "output_type": "stream",
     "text": [
      "28.274333882308138\n",
      "18.84955592153876\n"
     ]
    }
   ],
   "source": [
    "#第二個練習是輸入圓形的半徑長，依照參數的指定回傳面積或周長。\n",
    "import math #要用到math套件\n",
    "def circle_calculate(radius,area=True):\n",
    "    circle_area = math.pi*radius**2\n",
    "    circle_circum = 2*math.pi*radius\n",
    "    if (area==True):\n",
    "        return circle_area\n",
    "    else:\n",
    "        return circle_circum\n",
    "\n",
    "#呼叫函式\n",
    "print(circle_calculate(3))#因為預設area=True所以不用加\n",
    "print(circle_calculate(3,area=False))#呼叫周長"
   ]
  },
  {
   "cell_type": "code",
   "execution_count": 94,
   "metadata": {},
   "outputs": [
    {
     "name": "stdout",
     "output_type": "stream",
     "text": [
      "[7, 36, 54, 60, 72, 11, 40, 59, 3, 95]\n",
      "[3, 7, 11, 36, 40, 54, 59, 60, 72, 95]\n",
      "[95, 72, 60, 59, 54, 40, 36, 11, 7, 3]\n"
     ]
    }
   ],
   "source": [
    "#交換排序法（exchange sort）\n",
    "#第三個練習是寫程式的基本功交換排序法。\n",
    "\n",
    "import random\n",
    "\n",
    "def exchange_sort(input_list,reverse = False):\n",
    "    input_list_cloned = input_list\n",
    "    # 遞增排序\n",
    "    if reverse == False:\n",
    "        for i in range(0, len(input_list) - 1):\n",
    "            for j in range(i+1, len(input_list)):\n",
    "                # 如果前一個數字比後一個數字大則交換位置\n",
    "                if input_list_cloned[i] > input_list_cloned[j]:\n",
    "                    temp = input_list_cloned[i]\n",
    "                    input_list_cloned[i] = input_list_cloned[j]\n",
    "                    input_list_cloned[j] = temp\n",
    "    else:\n",
    "        for i in range(0,len(input_list)-1):\n",
    "            for j in range(i+1,len(input_list)):\n",
    "                if input_list_cloned[i] < input_list_cloned[j]:\n",
    "                    temp = input_list_cloned[i]\n",
    "                    input_list_cloned[i] = input_list_cloned[j]\n",
    "                    input_list_cloned[j] = temp\n",
    "    return input_list_cloned\n",
    "\n",
    "#呼叫函式\n",
    "my_vector = random.sample(range(0,100),10) # 產生一組隨機數\n",
    "print(my_vector)\n",
    "print(exchange_sort(my_vector)) # 預設遞增排序\n",
    "print(exchange_sort(my_vector, reverse = True)) # 指定參數遞減排序        \n",
    "                    \n",
    "        "
   ]
  },
  {
   "cell_type": "code",
   "execution_count": 101,
   "metadata": {},
   "outputs": [
    {
     "name": "stdout",
     "output_type": "stream",
     "text": [
      "面積: 28.274333882308138 周長: 18.84955592153876\n"
     ]
    }
   ],
   "source": [
    "#Python 自訂函數回傳多個值\n",
    "#在 return 後面將多個值用逗號 , 隔開就會回傳一個 tuple。\n",
    "\n",
    "import math #要用到math套件\n",
    "def circle_calculate(radius):\n",
    "    circle_area = math.pi*radius**2\n",
    "    circle_circum = 2*math.pi*radius\n",
    "    return circle_area,circle_circum\n",
    "\n",
    "#呼叫函式\n",
    "r = 3 #半徑\n",
    "circle_area,circle_circum = circle_calculate(r) #把函式回傳的值指派給circle_area,circle_circum\n",
    "print(\"面積:\",circle_area,\"周長:\",circle_circum)#面積&周長\n"
   ]
  },
  {
   "cell_type": "code",
   "execution_count": 105,
   "metadata": {},
   "outputs": [
    {
     "name": "stdout",
     "output_type": "stream",
     "text": [
      "最多: 58 \n",
      "最少: 4 \n",
      "List長度: 6 \n",
      "總和: 189\n"
     ]
    }
   ],
   "source": [
    "#Python 自訂函數回傳多個值\n",
    "#在 return 後面將多個值用逗號 , 隔開就會回傳一個 tuple。\n",
    "\n",
    "def irons_stats(irons_list):\n",
    "    max_irons_list = max(irons_list)\n",
    "    min_irons_list = min(irons_list)\n",
    "    len_irons_list = len(irons_list)\n",
    "    sum_irons_list = sum(irons_list)\n",
    "    return max_irons_list, min_irons_list, len_irons_list, sum_irons_list\n",
    "\n",
    "#呼叫函式\n",
    "irons = [50,58,47,4,5,25]\n",
    "max_irons_list, min_irons_list, len_irons_list, sum_irons_list=irons_stats(irons)\n",
    "print(\"最多:\",max_irons_list,\"\\n最少:\",\n",
    "      min_irons_list,\"\\nList長度:\",\n",
    "      len_irons_list,\"\\n總和:\",\n",
    "      sum_irons_list)"
   ]
  },
  {
   "cell_type": "code",
   "execution_count": 110,
   "metadata": {},
   "outputs": [
    {
     "name": "stdout",
     "output_type": "stream",
     "text": [
      "[150, 2400, 1410, 720, 780, 1350]\n"
     ]
    }
   ],
   "source": [
    "#Python 的 lambda 函數\n",
    "#Python 的匿名函數稱為 lambda 函數，\n",
    "#利用 lambda x : x * 30 把每組的鐵人數乘以 30 可以得到預期的各組文章總數。\n",
    "\n",
    "irons = [5,80,47,24,26,45]\n",
    "irons_articles = list(map(lambda x : x * 30,irons))\n",
    "\n",
    "print(irons_articles)"
   ]
  },
  {
   "cell_type": "markdown",
   "metadata": {},
   "source": [
    "變數範圍（Scope）\n",
    "開始自訂函數之後我們必須要意識到變數範圍這件事情，程式中的變數開始被我們區分為區域變數（local variables）與全域變數（global variables）。在函數內我們能夠使用兩種類型的變數，但是在函數外，僅能使用全域變數。用講的很抽象，我們還是動手定義自訂函數來釐清這個概念。\n"
   ]
  },
  {
   "cell_type": "code",
   "execution_count": 112,
   "metadata": {},
   "outputs": [
    {
     "name": "stdout",
     "output_type": "stream",
     "text": [
      "9\n"
     ]
    },
    {
     "ename": "NameError",
     "evalue": "name 'ans' is not defined",
     "output_type": "error",
     "traceback": [
      "\u001b[1;31m---------------------------------------------------------------------------\u001b[0m",
      "\u001b[1;31mNameError\u001b[0m                                 Traceback (most recent call last)",
      "\u001b[1;32m<ipython-input-112-99b3bf020d0a>\u001b[0m in \u001b[0;36m<module>\u001b[1;34m()\u001b[0m\n\u001b[0;32m      4\u001b[0m \u001b[1;33m\u001b[0m\u001b[0m\n\u001b[0;32m      5\u001b[0m \u001b[0mprint\u001b[0m\u001b[1;33m(\u001b[0m\u001b[0msquare\u001b[0m\u001b[1;33m(\u001b[0m\u001b[1;36m3\u001b[0m\u001b[1;33m)\u001b[0m\u001b[1;33m)\u001b[0m\u001b[1;33m\u001b[0m\u001b[0m\n\u001b[1;32m----> 6\u001b[1;33m \u001b[0mprint\u001b[0m\u001b[1;33m(\u001b[0m\u001b[0mans\u001b[0m\u001b[1;33m)\u001b[0m\u001b[1;33m\u001b[0m\u001b[0m\n\u001b[0m",
      "\u001b[1;31mNameError\u001b[0m: name 'ans' is not defined"
     ]
    }
   ],
   "source": [
    "def square(number):\n",
    "    ans = number**2\n",
    "    return ans\n",
    "\n",
    "print(square(3))\n",
    "print(ans)# 無法印出區域變數\n"
   ]
  },
  {
   "cell_type": "code",
   "execution_count": 114,
   "metadata": {},
   "outputs": [
    {
     "name": "stdout",
     "output_type": "stream",
     "text": [
      "9\n",
      "1\n"
     ]
    }
   ],
   "source": [
    "ans = 1 # 全域變數\n",
    "def square(number):\n",
    "    ans = number**2\n",
    "    return ans\n",
    "\n",
    "print(square(3))\n",
    "print(ans)# 無法印出區域變數"
   ]
  },
  {
   "cell_type": "code",
   "execution_count": null,
   "metadata": {
    "collapsed": true
   },
   "outputs": [],
   "source": [
    "巢狀函數（Nested functions）\n",
    "我們可以在函數裡面嵌入函數，\n",
    "舉例來說一個計算平均數的函數裡面應該要包含兩個函數，\n",
    "一個是計算總和的函數 my_sum()，\n",
    "一個是計算個數的函數 my_length()。"
   ]
  },
  {
   "cell_type": "code",
   "execution_count": 118,
   "metadata": {},
   "outputs": [
    {
     "name": "stdout",
     "output_type": "stream",
     "text": [
      "100.0\n"
     ]
    }
   ],
   "source": [
    "def my_mean(input_list):\n",
    "    def my_sum(input_list):\n",
    "        return sum(input_list)\n",
    "    def my_length(input_list):\n",
    "        return len(input_list)\n",
    "    return my_sum(input_list)/my_length(input_list)\n",
    "\n",
    "input_list = [25,50,75,100,125,150,175]\n",
    "print(my_mean(input_list))"
   ]
  },
  {
   "cell_type": "code",
   "execution_count": 131,
   "metadata": {},
   "outputs": [
    {
     "name": "stdout",
     "output_type": "stream",
     "text": [
      "100.0\n"
     ]
    }
   ],
   "source": [
    "def my_mean(input_list):\n",
    "    def my_sum(input_list):\n",
    "        temp_sum = 0\n",
    "        for i in input_list:\n",
    "            temp_sum += i\n",
    "        return temp_sum\n",
    "        \n",
    "        \n",
    "    def my_length(input_list):\n",
    "        temp_length = 0\n",
    "        for j in input_list:\n",
    "            temp_length += 1\n",
    "        return temp_length\n",
    "    \n",
    "    return my_sum(input_list)/my_length(input_list)\n",
    "\n",
    "input_list = [25,50,75,100,125,150,175]\n",
    "print(my_mean(input_list))"
   ]
  },
  {
   "cell_type": "code",
   "execution_count": 135,
   "metadata": {},
   "outputs": [
    {
     "name": "stdout",
     "output_type": "stream",
     "text": [
      "9\n",
      "請輸入數字。\n"
     ]
    }
   ],
   "source": [
    "# Python 使用 try - except 的語法結構進行錯誤處理，\n",
    "# 讓我們修改原本計算平方數的 my_square() \n",
    "# 當使用者輸入文字時會回傳客製錯誤訊息：「請輸入數值。」\n",
    "\n",
    "def my_square(number):\n",
    "    try:\n",
    "        ans = number**2\n",
    "        return ans\n",
    "    except:\n",
    "        print(\"請輸入數字。\")\n",
    "\n",
    "print(my_square(3))\n",
    "my_square(\"irons\")"
   ]
  },
  {
   "cell_type": "code",
   "execution_count": 140,
   "metadata": {},
   "outputs": [
    {
     "name": "stdout",
     "output_type": "stream",
     "text": [
      "51\n",
      "54\n",
      "89\n",
      "26\n",
      "36\n",
      "--------------\n",
      "51\n",
      "54\n",
      "89\n",
      "26\n",
      "36\n",
      "5\n",
      "84\n"
     ]
    }
   ],
   "source": [
    "# Python 的彈性參數（Flexible arguments）\n",
    "# Python 可以使用 *args 或 **kwargs(Keyword arguments)來分別處理不帶鍵值與帶有鍵值的\n",
    "# 彈性數量參數，利用這個特性，我們不一定要使用資料結構把變數包裝起來當做輸入。\n",
    "\n",
    "#*args\n",
    "def iron_list(*args):\n",
    "    for irons_number in args:\n",
    "        print(irons_number)\n",
    "        \n",
    "iron_list(51,54,89,26,36)\n",
    "print(\"--------------\")\n",
    "iron_list(51,54,89,26,36,5,84)       "
   ]
  },
  {
   "cell_type": "code",
   "execution_count": 161,
   "metadata": {},
   "outputs": [
    {
     "data": {
      "text/plain": [
       "34.0"
      ]
     },
     "execution_count": 161,
     "metadata": {},
     "output_type": "execute_result"
    }
   ],
   "source": [
    "# Python 的彈性參數（Flexible arguments）\n",
    "# Python 可以使用 *args 或 **kwargs(Keyword arguments)來分別處理不帶鍵值與帶有鍵值的\n",
    "# 彈性數量參數，利用這個特性，我們不一定要使用資料結構把變數包裝起來當做輸入。\n",
    "\n",
    "#*args\n",
    "def my_mean(*args):\n",
    "    def my_sum(*args):\n",
    "        temp_sum = 0\n",
    "        for i in args:\n",
    "            temp_sum += i\n",
    "        return temp_sum\n",
    "        \n",
    "        \n",
    "    def my_length(*args):\n",
    "        temp_length = 0\n",
    "        for j in args:\n",
    "            temp_length += 1\n",
    "        return temp_length\n",
    "    \n",
    "    return my_sum(*args)/my_length(*args)\n",
    "\n",
    "\n",
    "my_mean(10,20,20,30,90)"
   ]
  },
  {
   "cell_type": "code",
   "execution_count": 163,
   "metadata": {},
   "outputs": [
    {
     "name": "stdout",
     "output_type": "stream",
     "text": [
      "Web : 51 人\n",
      "DevOps : 8 人\n",
      "Cloud : 18 人\n",
      "Data : 13 人\n",
      "Security : 6 人\n",
      "-------------------------\n",
      "Web : 51 人\n",
      "DevOps : 8 人\n",
      "Cloud : 18 人\n",
      "Data : 13 人\n",
      "Security : 6 人\n",
      "UI : 85 人\n"
     ]
    }
   ],
   "source": [
    "#**kwargs\n",
    "\n",
    "def irons_list(**kwargs):\n",
    "    for key in kwargs:\n",
    "        print(key,\":\",kwargs[key],\"人\")\n",
    "\n",
    "irons_list(Web = 51, DevOps = 8, Cloud = 18, Data = 13, Security = 6 )\n",
    "print(\"-------------------------\")\n",
    "irons_list(Web = 51, DevOps = 8, Cloud = 18, Data = 13, Security = 6,UI=85 )"
   ]
  },
  {
   "cell_type": "code",
   "execution_count": 175,
   "metadata": {
    "scrolled": true
   },
   "outputs": [
    {
     "data": {
      "text/html": [
       "<div>\n",
       "<style>\n",
       "    .dataframe thead tr:only-child th {\n",
       "        text-align: right;\n",
       "    }\n",
       "\n",
       "    .dataframe thead th {\n",
       "        text-align: left;\n",
       "    }\n",
       "\n",
       "    .dataframe tbody tr th {\n",
       "        vertical-align: top;\n",
       "    }\n",
       "</style>\n",
       "<table border=\"1\" class=\"dataframe\">\n",
       "  <thead>\n",
       "    <tr style=\"text-align: right;\">\n",
       "      <th></th>\n",
       "      <th>groups</th>\n",
       "      <th>numbers</th>\n",
       "    </tr>\n",
       "  </thead>\n",
       "  <tbody>\n",
       "    <tr>\n",
       "      <th>0</th>\n",
       "      <td>web</td>\n",
       "      <td>5</td>\n",
       "    </tr>\n",
       "    <tr>\n",
       "      <th>1</th>\n",
       "      <td>java</td>\n",
       "      <td>10</td>\n",
       "    </tr>\n",
       "    <tr>\n",
       "      <th>2</th>\n",
       "      <td>html</td>\n",
       "      <td>15</td>\n",
       "    </tr>\n",
       "  </tbody>\n",
       "</table>\n",
       "</div>"
      ],
      "text/plain": [
       "  groups  numbers\n",
       "0    web        5\n",
       "1   java       10\n",
       "2   html       15"
      ]
     },
     "execution_count": 175,
     "metadata": {},
     "output_type": "execute_result"
    }
   ],
   "source": [
    "import pandas as pd\n",
    "\n",
    "groups_list = [\"web\",\"java\",\"html\",\"css\",\"python\",\"R\",\"sas\"]\n",
    "numbers_list= [5,10,15,20,25,30,35]\n",
    "\n",
    "groups_dic = {\"groups\":groups_list,\n",
    "             \"numbers\":numbers_list}\n",
    "\n",
    "BB_df = pd.DataFrame(groups_dic)\n",
    "BB_df.head(n=3) #BB_df有head()方法\n"
   ]
  },
  {
   "cell_type": "code",
   "execution_count": 176,
   "metadata": {},
   "outputs": [
    {
     "name": "stdout",
     "output_type": "stream",
     "text": [
      "<class '__main__.Ironmen'>\n"
     ]
    }
   ],
   "source": [
    "#定義類別（Class）\n",
    "#我們使用 class 語法來定義類別，並使用大寫開頭（Capitalized）單字為類別命名，\n",
    "#如果對於 __init__ 方法與 self 參數感到困惑，就先記得這是一個特殊的 Python 方法，\n",
    "#它用來幫助我們創造屬於這個類別的物件。\n",
    "class Ironmen:\n",
    "    '''這是一個叫做 Ironmen 的類別''' # Doc string\n",
    "    def __init__(self, group, participants):\n",
    "        self.group = group\n",
    "        self.participants = participants\n",
    "\n",
    "print(Ironmen)"
   ]
  },
  {
   "cell_type": "code",
   "execution_count": 177,
   "metadata": {},
   "outputs": [
    {
     "name": "stdout",
     "output_type": "stream",
     "text": [
      "<__main__.Ironmen object at 0x000002147A72CEB8>\n"
     ]
    }
   ],
   "source": [
    "#根據類別建立物件（Object）\n",
    "#一但類別 Ironmen 被定義完成，就可以使用 Ironmen() 當作建構子（Constructor）建立物件。\n",
    "\n",
    "class Ironmen:\n",
    "    def __init__(self, group, participants):\n",
    "        self.group = group\n",
    "        self.participants = participants\n",
    "        \n",
    "web = Ironmen(\"web\",54)\n",
    "print(web)"
   ]
  },
  {
   "cell_type": "code",
   "execution_count": 187,
   "metadata": {},
   "outputs": [
    {
     "name": "stdout",
     "output_type": "stream",
     "text": [
      "Modern Web\n",
      "54\n",
      "這是一個叫做 Ironmen 的類別\n"
     ]
    }
   ],
   "source": [
    "#使用物件的屬性（Attribute）\n",
    "#在物件名稱後面使用 . 接屬性名稱就可以使用。\n",
    "class Ironmen:\n",
    "    '''這是一個叫做 Ironmen 的類別''' # Doc string\n",
    "    def __init__(self, group, participants):\n",
    "        self.group = group\n",
    "        self.participants = participants\n",
    "\n",
    "# 根據 Ironmen 類別建立一個物件 modern_web\n",
    "modern_web = Ironmen(\"Modern Web\", 54)\n",
    "\n",
    "# 印出 modern_web 的兩個屬性\n",
    "print(modern_web.group)\n",
    "print(modern_web.participants)\n",
    "\n",
    "# 印出 modern_web 的類別 doc string\n",
    "print(modern_web.__doc__)\n"
   ]
  },
  {
   "cell_type": "code",
   "execution_count": 189,
   "metadata": {},
   "outputs": [
    {
     "name": "stdout",
     "output_type": "stream",
     "text": [
      "<method-wrapper '__delattr__' of Ironmen object at 0x000002147709E160>\n",
      "<built-in method __new__ of type object at 0x000000005679B7B0>\n"
     ]
    }
   ],
   "source": [
    "#在我們建立好屬於 Ironmen 類別的 modern_web 物件後，\n",
    "#在 jupyter notebook 中我們還可以\n",
    "#透過 tab 鍵來查看這個類別有哪些屬性（前後帶有兩個底線 __ 的是預設屬性。）\n",
    "print(modern_web.__delattr__)\n",
    "print(modern_web.__new__)"
   ]
  },
  {
   "cell_type": "code",
   "execution_count": 191,
   "metadata": {},
   "outputs": [
    {
     "data": {
      "text/plain": [
       "['__class__',\n",
       " '__delattr__',\n",
       " '__dict__',\n",
       " '__dir__',\n",
       " '__doc__',\n",
       " '__eq__',\n",
       " '__format__',\n",
       " '__ge__',\n",
       " '__getattribute__',\n",
       " '__gt__',\n",
       " '__hash__',\n",
       " '__init__',\n",
       " '__init_subclass__',\n",
       " '__le__',\n",
       " '__lt__',\n",
       " '__module__',\n",
       " '__ne__',\n",
       " '__new__',\n",
       " '__reduce__',\n",
       " '__reduce_ex__',\n",
       " '__repr__',\n",
       " '__setattr__',\n",
       " '__sizeof__',\n",
       " '__str__',\n",
       " '__subclasshook__',\n",
       " '__weakref__',\n",
       " 'group',\n",
       " 'participants']"
      ]
     },
     "execution_count": 191,
     "metadata": {},
     "output_type": "execute_result"
    }
   ],
   "source": [
    "#我們也可以使用內建函數 dir() 來列出物件全部的屬性。\n",
    "class Ironmen:\n",
    "    def __init__(self, group, participants):\n",
    "        self.group = group\n",
    "        self.participants = participants\n",
    "\n",
    "modern_web = Ironmen(\"Modern Web\", 54)\n",
    "\n",
    "dir(modern_web)"
   ]
  },
  {
   "cell_type": "code",
   "execution_count": 207,
   "metadata": {},
   "outputs": [
    {
     "name": "stdout",
     "output_type": "stream",
     "text": [
      "web 組有 35 人\n",
      "java 組有 26 人\n"
     ]
    }
   ],
   "source": [
    "#定義方法（Method）\n",
    "#除了 __init__ 方法之外利用 def 定義更多屬於這個類別的方法。\n",
    "\n",
    "class Iron:\n",
    "    def __init__(self,group,participants):\n",
    "        self.group = group\n",
    "        self.participants = participants\n",
    "    def print_info(self):\n",
    "        print(self.group, \"組有\", self.participants, \"人\")\n",
    "\n",
    "        \n",
    "# 根據 Iron 類別建立一個物件 web\n",
    "web = Iron(\"web\",35)\n",
    "# 根據 Iron 類別建立一個物件 java\n",
    "java = Iron(\"java\",26)\n",
    "\n",
    "# 使用 web 的 print_info() 方法\n",
    "web.print_info()\n",
    "# 使用 java 的 print_info() 方法\n",
    "java.print_info()\n",
    "\n"
   ]
  },
  {
   "cell_type": "code",
   "execution_count": 210,
   "metadata": {},
   "outputs": [
    {
     "name": "stdout",
     "output_type": "stream",
     "text": [
      "python 組有 2040 篇文章\n",
      "python 組有 68 人\n"
     ]
    }
   ],
   "source": [
    "#繼承（Inheritance）\n",
    "#新定義的類別可以繼承既有定義好的類別，可以沿用既有類別中的屬性及方法。\n",
    "\n",
    "class Iron:\n",
    "    def __init__(self, group, participants):\n",
    "        self.group = group\n",
    "        self.participants = participants\n",
    "    def print_info(self):\n",
    "        print(self.group, \"組有\", self.participants, \"人\")\n",
    "        \n",
    "# Articles 類別繼承 Iron 類別        \n",
    "class Articles(Iron):\n",
    "    def print_articles(self):\n",
    "        print(self.group, \"組有\", self.participants*30, \"篇文章\")\n",
    "        \n",
    "python = Articles(\"python\",68)\n",
    "\n",
    "python.print_articles() # 使用 python 的 print_articles() 方法\n",
    "python.print_info()     # 檢查 python 是否還擁有 print_info() 方法"
   ]
  },
  {
   "cell_type": "code",
   "execution_count": 212,
   "metadata": {},
   "outputs": [
    {
     "name": "stdout",
     "output_type": "stream",
     "text": [
      "web\n",
      "36\n"
     ]
    }
   ],
   "source": [
    "#在繼承時使用 super()\n",
    "#可以根據原本的屬性或方法之上建立新的屬性或方法。\n",
    "\n",
    "class Iron:\n",
    "    def __init__(self, group):\n",
    "        self.group = group\n",
    "        \n",
    "class Article(Iron):\n",
    "    def __init__(self, group, participants):\n",
    "        super().__init__(group)\n",
    "        self.participants = participants\n",
    "        \n",
    "        \n",
    "web = Article(\"web\",36)\n",
    "\n",
    "print(web.group)\n",
    "print(web.participants)"
   ]
  },
  {
   "cell_type": "code",
   "execution_count": 225,
   "metadata": {},
   "outputs": [
    {
     "name": "stdout",
     "output_type": "stream",
     "text": [
      "web\n",
      "36\n"
     ]
    }
   ],
   "source": [
    "#在繼承時使用 super()\n",
    "#可以根據原本的屬性或方法之上建立新的屬性或方法。\n",
    "\n",
    "class Iron:\n",
    "    def __init__(self, group):\n",
    "        self.group = group\n",
    "        \n",
    "class Article(Iron):\n",
    "    def __init__(self, group, participants):\n",
    "        super().__init__(group)    # 呼叫父類別__init__()\n",
    "        self.participants = participants\n",
    "        \n",
    "        \n",
    "web = Article(\"web\",36)\n",
    "\n",
    "print(web.group)\n",
    "print(web.participants)"
   ]
  },
  {
   "cell_type": "code",
   "execution_count": 226,
   "metadata": {},
   "outputs": [
    {
     "name": "stdout",
     "output_type": "stream",
     "text": [
      "Modern Web 組有 54 位鐵人參賽！p.s.我被改寫了！\n"
     ]
    }
   ],
   "source": [
    "#在繼承時改寫方法（Override）\n",
    "#我們在先前繼承時成功增加一個方法 print_articles()，\n",
    "#現在我們要試著在 Article 類別中改寫原本 Ironmen 類別中的 print_info() 方法。\n",
    "\n",
    "class Ironmen:\n",
    "    '''這是一個叫做 Ironmen 的類別''' # Doc string\n",
    "    def __init__(self, group, participants):\n",
    "        self.group = group\n",
    "        self.participants = participants\n",
    "    \n",
    "    def print_info(self):\n",
    "        print(self.group, \"組有\", self.participants, \"位鐵人參賽！\")\n",
    "\n",
    "# Articles 類別繼承 Ironmen 類別\n",
    "class Articles(Ironmen):\n",
    "    '''\n",
    "    這是一個叫做 Articles 的類別。\n",
    "    Articles 繼承 Ironmen 類別，她新增了一個 print_articles() 方法\n",
    "    '''\n",
    "    def print_articles(self):\n",
    "        print(self.group, \"組預計會有\", self.participants * 30, \"篇文章！\")\n",
    "    \n",
    "    # 改寫 print_info() 方法\n",
    "    def print_info(self):\n",
    "        print(self.group, \"組有\", self.participants, \"位鐵人參賽！p.s.我被改寫了！\")\n",
    "\n",
    "# 根據 Articles 類別建立一個物件 modern_web\n",
    "modern_web = Articles(\"Modern Web\", 54)\n",
    "\n",
    "# 檢查 modern_web 的 print_info() 方法是否被改寫\n",
    "modern_web.print_info()"
   ]
  }
 ],
 "metadata": {
  "kernelspec": {
   "display_name": "Python 3",
   "language": "python",
   "name": "python3"
  },
  "language_info": {
   "codemirror_mode": {
    "name": "ipython",
    "version": 3
   },
   "file_extension": ".py",
   "mimetype": "text/x-python",
   "name": "python",
   "nbconvert_exporter": "python",
   "pygments_lexer": "ipython3",
   "version": "3.6.1"
  }
 },
 "nbformat": 4,
 "nbformat_minor": 2
}
