{
 "cells": [
  {
   "cell_type": "markdown",
   "metadata": {},
   "source": [
    "數值\n",
    "\n",
    "float\n",
    "\n",
    "浮點數（float）屬於 numbers.Real 類別（繼承自 abstract base 類別。）\n",
    "\n",
    "as_integer_ratio() 方法\n",
    "is_integer() 方法\n",
    "hex() 方法\n",
    "fromhex() 方法"
   ]
  },
  {
   "cell_type": "code",
   "execution_count": 7,
   "metadata": {},
   "outputs": [
    {
     "name": "stdout",
     "output_type": "stream",
     "text": [
      "(2448832297382707, 281474976710656)\n",
      "False\n",
      "0x1.1666666666666p+3\n",
      "8.7\n"
     ]
    }
   ],
   "source": [
    "my_float = 8.7\n",
    "print(my_float.as_integer_ratio())\n",
    "print(my_float.is_integer()) #判斷是不是float\n",
    "print(my_float.hex()) #16進位\n",
    "print(float.fromhex(\"0x1.1666666666666p+3\")) #轉換16進位\n"
   ]
  },
  {
   "cell_type": "markdown",
   "metadata": {},
   "source": [
    "int\n",
    "\n",
    "整數（int）屬於 numbers.Integral 類別（繼承自 abstract base 類別。）\n",
    "\n",
    "bit_length() 方法\n",
    "to_bytes() 方法\n",
    "from_bytes() 方法"
   ]
  },
  {
   "cell_type": "code",
   "execution_count": 8,
   "metadata": {},
   "outputs": [
    {
     "name": "stdout",
     "output_type": "stream",
     "text": [
      "7\n",
      "b'\\x00W'\n",
      "87\n",
      "---\n",
      "b'\\x00\\x00\\x00\\x00\\x00\\x00\\x00\\x00\\x00W'\n",
      "87\n"
     ]
    }
   ],
   "source": [
    "my_int = 87\n",
    "print(my_int.bit_length())\n",
    "print(my_int.to_bytes(length = 2, byteorder = \"big\"))\n",
    "print(int.from_bytes(b'\\x00W', byteorder = \"big\"))\n",
    "print(\"---\")\n",
    "print(my_int.to_bytes(length = 10, byteorder = \"big\"))\n",
    "print(int.from_bytes(b'\\x00\\x00\\x00\\x00\\x00\\x00\\x00\\x00\\x00W', byteorder = \"big\"))"
   ]
  },
  {
   "cell_type": "markdown",
   "metadata": {},
   "source": [
    "complex\n",
    "\n",
    "複數（complex）屬於 numbers.Complex 類別（繼承自 abstract base 類別）。\n",
    "\n",
    "real 屬性\n",
    "imag 屬性\n",
    "conjugate() 方法"
   ]
  },
  {
   "cell_type": "code",
   "execution_count": 9,
   "metadata": {},
   "outputs": [
    {
     "name": "stdout",
     "output_type": "stream",
     "text": [
      "8.0\n",
      "7.0\n",
      "(8-7j)\n"
     ]
    }
   ],
   "source": [
    "my_complex = 8 + 7j\n",
    "print(my_complex.real)#實數部分\n",
    "print(my_complex.imag)#虛數部分\n",
    "print(my_complex.conjugate())"
   ]
  },
  {
   "cell_type": "markdown",
   "metadata": {},
   "source": [
    "文字（str）\n",
    "\n",
    "文字（str）有太多方法可以使用，我們簡單列了一些常用方法。\n",
    "\n",
    "startswith() 方法\n",
    "endswith() 方法\n",
    "find() 方法\n",
    "count() 方法\n",
    "strip() 方法\n",
    "capitalize() 方法\n",
    "title() 方法\n",
    "upper() 方法\n",
    "lower() 方法\n",
    "swapcase() 方法\n",
    "replace() 方法"
   ]
  },
  {
   "cell_type": "code",
   "execution_count": 18,
   "metadata": {},
   "outputs": [
    {
     "name": "stdout",
     "output_type": "stream",
     "text": [
      "True\n",
      "False\n",
      "9\n",
      "3\n",
      "It's the 2017 ithelp ironman contest\n",
      "It's the 2017 ithelp ironman contest!!!\n",
      "It'S The 2017 Ithelp Ironman Contest!!!\n",
      "IT'S THE 2017 ITHELP IRONMAN CONTEST!!!\n",
      "it's the 2017 ithelp ironman contest!!!\n",
      "iT'S THE 2017 ITHELP IRONMAN CONTEST!!!\n",
      "It's the 2017 ithelp ironman competition!!!\n"
     ]
    }
   ],
   "source": [
    "my_str = \"It's the 2017 ithelp ironman contest!!!\"\n",
    "\n",
    "print(my_str.startswith(\"It's\")) # True 從It's開始\n",
    "print(my_str.endswith(\"contest??\")) # False\n",
    "print(my_str.find(\"2017\")) # 9\n",
    "print(my_str.count(\"!\")) # 3\n",
    "print(my_str.strip(\"!\")) # It's the 2017 ithelp ironman contest\n",
    "print(my_str.capitalize()) # It's the 2017 ithelp ironman contest!!!\n",
    "print(my_str.title()) # It'S The 2017 Ithelp Ironman Contest!!!\n",
    "print(my_str.upper()) # IT'S THE 2017 ITHELP IRONMAN CONTEST!!!\n",
    "print(my_str.lower()) # it's the 2017 ithelp ironman contest!!!\n",
    "print(my_str.swapcase()) # iT'S THE 2017 ITHELP IRONMAN CONTEST!!!\n",
    "print(my_str.replace(\"contest\", \"competition\")) # It's the 2017 ithelp ironman competition!!!"
   ]
  },
  {
   "cell_type": "markdown",
   "metadata": {},
   "source": [
    "布林值（bool）\n",
    "\n",
    "布林值（bool）的方法或屬性與 int 幾乎相同。\n",
    "\n",
    "bit_length() 方法\n",
    "to_bytes() 方法\n",
    "from_bytes() 方法"
   ]
  },
  {
   "cell_type": "code",
   "execution_count": 19,
   "metadata": {},
   "outputs": [
    {
     "name": "stdout",
     "output_type": "stream",
     "text": [
      "1\n",
      "b'\\x00\\x01'\n",
      "True\n",
      "---\n",
      "b'\\x00\\x00\\x00\\x00\\x00\\x00\\x00\\x00\\x00\\x01'\n",
      "True\n"
     ]
    }
   ],
   "source": [
    "my_bool = True\n",
    "print(my_bool.bit_length())\n",
    "print(my_bool.to_bytes(length = 2, byteorder = \"big\"))\n",
    "print(bool.from_bytes(b'\\x00\\x01', byteorder = \"big\"))\n",
    "print(\"---\")\n",
    "print(my_bool.to_bytes(length = 10, byteorder = \"big\"))\n",
    "print(bool.from_bytes(b'\\x00\\x00\\x00\\x00\\x00\\x00\\x00\\x00\\x00\\x01', byteorder = \"big\"))"
   ]
  },
  {
   "cell_type": "markdown",
   "metadata": {},
   "source": [
    "list\n",
    "\n",
    "list 有太多方法可以使用，我們簡單列了一些常用方法。\n",
    "\n",
    "append() 方法\n",
    "insert() 方法\n",
    "remove() 方法\n",
    "pop() 方法\n",
    "index() 方法\n",
    "count() 方法\n",
    "sort() 方法\n",
    "reverse() 方法"
   ]
  },
  {
   "cell_type": "code",
   "execution_count": 26,
   "metadata": {},
   "outputs": [
    {
     "name": "stdout",
     "output_type": "stream",
     "text": [
      "[56, 8, 18, 14, 6, 66]\n",
      "[56, 8, 18, 14, 6]\n",
      "[56, 8, 18, 14, 6]\n",
      "0\n",
      "2\n",
      "[6, 8, 14, 18, 56, 66]\n",
      "[66, 56, 18, 14, 8, 6]\n"
     ]
    }
   ],
   "source": [
    "# 截至 2016-12-12 下午 3 時第 8 屆 iT 邦幫忙各組的鐵人分別是 56、8、18、14、6 與 66 人\n",
    "ironmen = [56, 8, 18, 14, 6]\n",
    "\n",
    "ironmen.append(66)\n",
    "print(ironmen)\n",
    "ironmen.pop()#預設拿出最後一個加入的\n",
    "print(ironmen)\n",
    "ironmen.insert(0,66)\n",
    "ironmen.remove(66)\n",
    "print(ironmen)\n",
    "print(ironmen.index(56))\n",
    "\n",
    "ironmen.append(66)\n",
    "ironmen.append(66)\n",
    "print(ironmen.count(66))\n",
    "ironmen.pop()\n",
    "ironmen.sort()#升冪排列\n",
    "print(ironmen)\n",
    "ironmen.reverse()#降冪排列\n",
    "print(ironmen)"
   ]
  },
  {
   "cell_type": "markdown",
   "metadata": {},
   "source": [
    "tuple\n",
    "\n",
    "tuple 是一個不可變（immutable）的資料結構，所以不會有改變內容的方法。\n",
    "\n",
    "index() 方法\n",
    "count() 方法\n"
   ]
  },
  {
   "cell_type": "code",
   "execution_count": 27,
   "metadata": {},
   "outputs": [
    {
     "name": "stdout",
     "output_type": "stream",
     "text": [
      "0\n",
      "2\n"
     ]
    }
   ],
   "source": [
    "my_tuple = (56, 8, 18, 14, 6, 6)\n",
    "print(my_tuple.index(56))\n",
    "print(my_tuple.count(6))"
   ]
  },
  {
   "cell_type": "markdown",
   "metadata": {},
   "source": [
    "dictionary\n",
    "\n",
    "dictionary 有太多方法可以使用，我們簡單列了一些常用方法。\n",
    "\n",
    "get() 方法\n",
    "keys() 方法\n",
    "items() 方法\n",
    "values() 方法"
   ]
  },
  {
   "cell_type": "code",
   "execution_count": 28,
   "metadata": {},
   "outputs": [
    {
     "name": "stdout",
     "output_type": "stream",
     "text": [
      "56\n",
      "dict_keys(['Modern Web', 'DevOps', 'Cloud', 'Big Data', 'Security', '自我挑戰組'])\n",
      "dict_items([('Modern Web', 56), ('DevOps', 8), ('Cloud', 18), ('Big Data', 14), ('Security', 6), ('自我挑戰組', 66)])\n",
      "dict_values([56, 8, 18, 14, 6, 66])\n"
     ]
    }
   ],
   "source": [
    "ironmen_dict = {\"Modern Web\": 56,\n",
    "                \"DevOps\": 8,\n",
    "                \"Cloud\": 18,\n",
    "                \"Big Data\": 14,\n",
    "                \"Security\": 6,\n",
    "                \"自我挑戰組\": 66\n",
    "                }\n",
    "\n",
    "print(ironmen_dict.get(\"Modern Web\"))\n",
    "print(ironmen_dict.keys())\n",
    "print(ironmen_dict.items())#把鍵值和物件都映出來\n",
    "print(ironmen_dict.values())"
   ]
  },
  {
   "cell_type": "markdown",
   "metadata": {},
   "source": [
    "以 dir() 函數查詢\n",
    "\n",
    "物件（變數或資料結構）建立好以後，可以使用 dir() 函數查詢有哪些可以用的功能。"
   ]
  },
  {
   "cell_type": "code",
   "execution_count": 29,
   "metadata": {},
   "outputs": [
    {
     "data": {
      "text/plain": [
       "['__class__',\n",
       " '__contains__',\n",
       " '__delattr__',\n",
       " '__delitem__',\n",
       " '__dir__',\n",
       " '__doc__',\n",
       " '__eq__',\n",
       " '__format__',\n",
       " '__ge__',\n",
       " '__getattribute__',\n",
       " '__getitem__',\n",
       " '__gt__',\n",
       " '__hash__',\n",
       " '__init__',\n",
       " '__init_subclass__',\n",
       " '__iter__',\n",
       " '__le__',\n",
       " '__len__',\n",
       " '__lt__',\n",
       " '__ne__',\n",
       " '__new__',\n",
       " '__reduce__',\n",
       " '__reduce_ex__',\n",
       " '__repr__',\n",
       " '__setattr__',\n",
       " '__setitem__',\n",
       " '__sizeof__',\n",
       " '__str__',\n",
       " '__subclasshook__',\n",
       " 'clear',\n",
       " 'copy',\n",
       " 'fromkeys',\n",
       " 'get',\n",
       " 'items',\n",
       " 'keys',\n",
       " 'pop',\n",
       " 'popitem',\n",
       " 'setdefault',\n",
       " 'update',\n",
       " 'values']"
      ]
     },
     "execution_count": 29,
     "metadata": {},
     "output_type": "execute_result"
    }
   ],
   "source": [
    "ironmen_dict = {\"Modern Web\": 56,\n",
    "                \"DevOps\": 8,\n",
    "                \"Cloud\": 18,\n",
    "                \"Big Data\": 14,\n",
    "                \"Security\": 6,\n",
    "                \"自我挑戰組\": 66\n",
    "                }\n",
    "\n",
    "dir(ironmen_dict)"
   ]
  }
 ],
 "metadata": {
  "kernelspec": {
   "display_name": "Python 3",
   "language": "python",
   "name": "python3"
  },
  "language_info": {
   "codemirror_mode": {
    "name": "ipython",
    "version": 3
   },
   "file_extension": ".py",
   "mimetype": "text/x-python",
   "name": "python",
   "nbconvert_exporter": "python",
   "pygments_lexer": "ipython3",
   "version": "3.6.1"
  }
 },
 "nbformat": 4,
 "nbformat_minor": 2
}
