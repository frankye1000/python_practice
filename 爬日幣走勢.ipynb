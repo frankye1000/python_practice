{
 "cells": [
  {
   "cell_type": "code",
   "execution_count": 1,
   "metadata": {
    "collapsed": true
   },
   "outputs": [],
   "source": [
    "import pandas as pd\n",
    "df = pd.read_csv('ExchangeRate@201710061601.csv')"
   ]
  },
  {
   "cell_type": "code",
   "execution_count": 3,
   "metadata": {},
   "outputs": [
    {
     "data": {
      "text/html": [
       "<div>\n",
       "<style>\n",
       "    .dataframe thead tr:only-child th {\n",
       "        text-align: right;\n",
       "    }\n",
       "\n",
       "    .dataframe thead th {\n",
       "        text-align: left;\n",
       "    }\n",
       "\n",
       "    .dataframe tbody tr th {\n",
       "        vertical-align: top;\n",
       "    }\n",
       "</style>\n",
       "<table border=\"1\" class=\"dataframe\">\n",
       "  <thead>\n",
       "    <tr style=\"text-align: right;\">\n",
       "      <th></th>\n",
       "      <th>資料日期</th>\n",
       "      <th>幣別</th>\n",
       "      <th>匯率</th>\n",
       "      <th>現金</th>\n",
       "      <th>即期</th>\n",
       "      <th>遠期10天</th>\n",
       "      <th>遠期30天</th>\n",
       "      <th>遠期60天</th>\n",
       "      <th>遠期90天</th>\n",
       "      <th>遠期120天</th>\n",
       "      <th>...</th>\n",
       "      <th>匯率.1</th>\n",
       "      <th>現金.1</th>\n",
       "      <th>即期.1</th>\n",
       "      <th>遠期10天.1</th>\n",
       "      <th>遠期30天.1</th>\n",
       "      <th>遠期60天.1</th>\n",
       "      <th>遠期90天.1</th>\n",
       "      <th>遠期120天.1</th>\n",
       "      <th>遠期150天.1</th>\n",
       "      <th>遠期180天.1</th>\n",
       "    </tr>\n",
       "  </thead>\n",
       "  <tbody>\n",
       "    <tr>\n",
       "      <th>20171006</th>\n",
       "      <td>JPY</td>\n",
       "      <td>本行買入</td>\n",
       "      <td>0.2604</td>\n",
       "      <td>0.2668</td>\n",
       "      <td>0.2668</td>\n",
       "      <td>0.2667</td>\n",
       "      <td>0.2666</td>\n",
       "      <td>0.2667</td>\n",
       "      <td>0.2666</td>\n",
       "      <td>0.2666</td>\n",
       "      <td>...</td>\n",
       "      <td>0.2714</td>\n",
       "      <td>0.2708</td>\n",
       "      <td>0.2708</td>\n",
       "      <td>0.2709</td>\n",
       "      <td>0.2708</td>\n",
       "      <td>0.2709</td>\n",
       "      <td>0.2710</td>\n",
       "      <td>0.2710</td>\n",
       "      <td>0.2710</td>\n",
       "      <td>NaN</td>\n",
       "    </tr>\n",
       "    <tr>\n",
       "      <th>20171005</th>\n",
       "      <td>JPY</td>\n",
       "      <td>本行買入</td>\n",
       "      <td>0.2607</td>\n",
       "      <td>0.2671</td>\n",
       "      <td>0.2670</td>\n",
       "      <td>0.2669</td>\n",
       "      <td>0.2669</td>\n",
       "      <td>0.2670</td>\n",
       "      <td>0.2669</td>\n",
       "      <td>0.2669</td>\n",
       "      <td>...</td>\n",
       "      <td>0.2717</td>\n",
       "      <td>0.2711</td>\n",
       "      <td>0.2711</td>\n",
       "      <td>0.2712</td>\n",
       "      <td>0.2711</td>\n",
       "      <td>0.2713</td>\n",
       "      <td>0.2713</td>\n",
       "      <td>0.2713</td>\n",
       "      <td>0.2713</td>\n",
       "      <td>NaN</td>\n",
       "    </tr>\n",
       "    <tr>\n",
       "      <th>20171003</th>\n",
       "      <td>JPY</td>\n",
       "      <td>本行買入</td>\n",
       "      <td>0.2608</td>\n",
       "      <td>0.2672</td>\n",
       "      <td>0.2672</td>\n",
       "      <td>0.2671</td>\n",
       "      <td>0.2670</td>\n",
       "      <td>0.2671</td>\n",
       "      <td>0.2671</td>\n",
       "      <td>0.2670</td>\n",
       "      <td>...</td>\n",
       "      <td>0.2718</td>\n",
       "      <td>0.2712</td>\n",
       "      <td>0.2712</td>\n",
       "      <td>0.2713</td>\n",
       "      <td>0.2712</td>\n",
       "      <td>0.2713</td>\n",
       "      <td>0.2714</td>\n",
       "      <td>0.2714</td>\n",
       "      <td>0.2715</td>\n",
       "      <td>NaN</td>\n",
       "    </tr>\n",
       "    <tr>\n",
       "      <th>20171002</th>\n",
       "      <td>JPY</td>\n",
       "      <td>本行買入</td>\n",
       "      <td>0.2608</td>\n",
       "      <td>0.2672</td>\n",
       "      <td>0.2672</td>\n",
       "      <td>0.2671</td>\n",
       "      <td>0.2670</td>\n",
       "      <td>0.2671</td>\n",
       "      <td>0.2671</td>\n",
       "      <td>0.2671</td>\n",
       "      <td>...</td>\n",
       "      <td>0.2718</td>\n",
       "      <td>0.2712</td>\n",
       "      <td>0.2713</td>\n",
       "      <td>0.2714</td>\n",
       "      <td>0.2713</td>\n",
       "      <td>0.2714</td>\n",
       "      <td>0.2715</td>\n",
       "      <td>0.2715</td>\n",
       "      <td>0.2716</td>\n",
       "      <td>NaN</td>\n",
       "    </tr>\n",
       "    <tr>\n",
       "      <th>20170930</th>\n",
       "      <td>JPY</td>\n",
       "      <td>本行買入</td>\n",
       "      <td>0.2607</td>\n",
       "      <td>0.2671</td>\n",
       "      <td>0.2671</td>\n",
       "      <td>0.2670</td>\n",
       "      <td>0.2669</td>\n",
       "      <td>0.2670</td>\n",
       "      <td>0.2669</td>\n",
       "      <td>0.2669</td>\n",
       "      <td>...</td>\n",
       "      <td>0.2717</td>\n",
       "      <td>0.2711</td>\n",
       "      <td>0.2712</td>\n",
       "      <td>0.2713</td>\n",
       "      <td>0.2712</td>\n",
       "      <td>0.2714</td>\n",
       "      <td>0.2714</td>\n",
       "      <td>0.2715</td>\n",
       "      <td>0.2716</td>\n",
       "      <td>NaN</td>\n",
       "    </tr>\n",
       "  </tbody>\n",
       "</table>\n",
       "<p>5 rows × 22 columns</p>\n",
       "</div>"
      ],
      "text/plain": [
       "         資料日期    幣別      匯率      現金      即期   遠期10天   遠期30天   遠期60天   遠期90天  \\\n",
       "20171006  JPY  本行買入  0.2604  0.2668  0.2668  0.2667  0.2666  0.2667  0.2666   \n",
       "20171005  JPY  本行買入  0.2607  0.2671  0.2670  0.2669  0.2669  0.2670  0.2669   \n",
       "20171003  JPY  本行買入  0.2608  0.2672  0.2672  0.2671  0.2670  0.2671  0.2671   \n",
       "20171002  JPY  本行買入  0.2608  0.2672  0.2672  0.2671  0.2670  0.2671  0.2671   \n",
       "20170930  JPY  本行買入  0.2607  0.2671  0.2671  0.2670  0.2669  0.2670  0.2669   \n",
       "\n",
       "          遠期120天    ...       匯率.1    現金.1    即期.1  遠期10天.1  遠期30天.1  遠期60天.1  \\\n",
       "20171006  0.2666    ...     0.2714  0.2708  0.2708   0.2709   0.2708   0.2709   \n",
       "20171005  0.2669    ...     0.2717  0.2711  0.2711   0.2712   0.2711   0.2713   \n",
       "20171003  0.2670    ...     0.2718  0.2712  0.2712   0.2713   0.2712   0.2713   \n",
       "20171002  0.2671    ...     0.2718  0.2712  0.2713   0.2714   0.2713   0.2714   \n",
       "20170930  0.2669    ...     0.2717  0.2711  0.2712   0.2713   0.2712   0.2714   \n",
       "\n",
       "          遠期90天.1  遠期120天.1  遠期150天.1  遠期180天.1  \n",
       "20171006   0.2710    0.2710    0.2710       NaN  \n",
       "20171005   0.2713    0.2713    0.2713       NaN  \n",
       "20171003   0.2714    0.2714    0.2715       NaN  \n",
       "20171002   0.2715    0.2715    0.2716       NaN  \n",
       "20170930   0.2714    0.2715    0.2716       NaN  \n",
       "\n",
       "[5 rows x 22 columns]"
      ]
     },
     "execution_count": 3,
     "metadata": {},
     "output_type": "execute_result"
    }
   ],
   "source": [
    "df.head()"
   ]
  },
  {
   "cell_type": "code",
   "execution_count": 5,
   "metadata": {},
   "outputs": [
    {
     "name": "stdout",
     "output_type": "stream",
     "text": [
      "<class 'pandas.core.frame.DataFrame'>\n",
      "Int64Index: 70 entries, 20171006 to 20170703\n",
      "Data columns (total 22 columns):\n",
      "資料日期        70 non-null object\n",
      "幣別          70 non-null object\n",
      "匯率          70 non-null float64\n",
      "現金          70 non-null float64\n",
      "即期          70 non-null float64\n",
      "遠期10天       70 non-null float64\n",
      "遠期30天       70 non-null float64\n",
      "遠期60天       70 non-null float64\n",
      "遠期90天       70 non-null float64\n",
      "遠期120天      70 non-null float64\n",
      "遠期150天      70 non-null float64\n",
      "遠期180天      70 non-null object\n",
      "匯率.1        70 non-null float64\n",
      "現金.1        70 non-null float64\n",
      "即期.1        70 non-null float64\n",
      "遠期10天.1     70 non-null float64\n",
      "遠期30天.1     70 non-null float64\n",
      "遠期60天.1     70 non-null float64\n",
      "遠期90天.1     70 non-null float64\n",
      "遠期120天.1    70 non-null float64\n",
      "遠期150天.1    70 non-null float64\n",
      "遠期180天.1    0 non-null float64\n",
      "dtypes: float64(19), object(3)\n",
      "memory usage: 12.6+ KB\n"
     ]
    }
   ],
   "source": [
    "df.info()"
   ]
  },
  {
   "cell_type": "code",
   "execution_count": 9,
   "metadata": {
    "collapsed": true
   },
   "outputs": [],
   "source": [
    "df.index = pd.to_datetime(df.index, format='%Y%m%d')"
   ]
  },
  {
   "cell_type": "code",
   "execution_count": 11,
   "metadata": {},
   "outputs": [
    {
     "name": "stdout",
     "output_type": "stream",
     "text": [
      "<class 'pandas.core.frame.DataFrame'>\n",
      "DatetimeIndex: 70 entries, 2017-10-06 to 2017-07-03\n",
      "Data columns (total 22 columns):\n",
      "資料日期        70 non-null object\n",
      "幣別          70 non-null object\n",
      "匯率          70 non-null float64\n",
      "現金          70 non-null float64\n",
      "即期          70 non-null float64\n",
      "遠期10天       70 non-null float64\n",
      "遠期30天       70 non-null float64\n",
      "遠期60天       70 non-null float64\n",
      "遠期90天       70 non-null float64\n",
      "遠期120天      70 non-null float64\n",
      "遠期150天      70 non-null float64\n",
      "遠期180天      70 non-null object\n",
      "匯率.1        70 non-null float64\n",
      "現金.1        70 non-null float64\n",
      "即期.1        70 non-null float64\n",
      "遠期10天.1     70 non-null float64\n",
      "遠期30天.1     70 non-null float64\n",
      "遠期60天.1     70 non-null float64\n",
      "遠期90天.1     70 non-null float64\n",
      "遠期120天.1    70 non-null float64\n",
      "遠期150天.1    70 non-null float64\n",
      "遠期180天.1    0 non-null float64\n",
      "dtypes: float64(19), object(3)\n",
      "memory usage: 12.6+ KB\n"
     ]
    }
   ],
   "source": [
    "df.info()"
   ]
  },
  {
   "cell_type": "code",
   "execution_count": 12,
   "metadata": {},
   "outputs": [
    {
     "name": "stdout",
     "output_type": "stream",
     "text": [
      "Populating the interactive namespace from numpy and matplotlib\n"
     ]
    }
   ],
   "source": [
    "%pylab inline"
   ]
  },
  {
   "cell_type": "code",
   "execution_count": 23,
   "metadata": {},
   "outputs": [
    {
     "data": {
      "text/plain": [
       "<matplotlib.axes._subplots.AxesSubplot at 0x2c37c03f198>"
      ]
     },
     "execution_count": 23,
     "metadata": {},
     "output_type": "execute_result"
    },
    {
     "data": {
      "image/png": "[encoded data removed]",
      "text/plain": [
       "<matplotlib.figure.Figure at 0x2c37c064d30>"
      ]
     },
     "metadata": {},
     "output_type": "display_data"
    }
   ],
   "source": [
    "df.plot(kind = 'line' ,y = ['匯率','現金'],figsize=[10,6])"
   ]
  }
 ],
 "metadata": {
  "kernelspec": {
   "display_name": "Python 3",
   "language": "python",
   "name": "python3"
  },
  "language_info": {
   "codemirror_mode": {
    "name": "ipython",
    "version": 3
   },
   "file_extension": ".py",
   "mimetype": "text/x-python",
   "name": "python",
   "nbconvert_exporter": "python",
   "pygments_lexer": "ipython3",
   "version": "3.6.1"
  }
 },
 "nbformat": 4,
 "nbformat_minor": 2
}
