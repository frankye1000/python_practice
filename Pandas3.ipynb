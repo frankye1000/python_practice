{
 "cells": [
  {
   "cell_type": "code",
   "execution_count": 12,
   "metadata": {},
   "outputs": [
    {
     "name": "stdout",
     "output_type": "stream",
     "text": [
      "            A   B     C     D   F  E\n",
      "2017-09-25  0   1     2     3 NaN  1\n",
      "2017-09-26  4   5  1111     7 NaN  2\n",
      "2017-09-27  0   9    10    11 NaN  3\n",
      "2017-09-28  0  13    14    15 NaN  4\n",
      "2017-09-29  0  17    18  6666 NaN  5\n",
      "2017-09-30  0  21    22    23 NaN  6\n"
     ]
    }
   ],
   "source": [
    "import pandas as pd\n",
    "import numpy as np\n",
    "dates = pd.date_range('20170925',periods=6)\n",
    "df = pd.DataFrame(np.arange(24).reshape((6,4)),index=dates, \n",
    "                  columns=['A','B','C','D'])\n",
    "\n",
    "df.iloc[1,2]=1111\n",
    "df.loc['20170929','D'] = 6666\n",
    "df.A[df.A > 4] = 0\n",
    "df['F'] = np.nan\n",
    "df['E'] = pd.Series([1,2,3,4,5,6], index=pd.date_range('20170925',periods=6))\n",
    "print(df)"
   ]
  },
  {
   "cell_type": "code",
   "execution_count": 1,
   "metadata": {},
   "outputs": [
    {
     "name": "stdout",
     "output_type": "stream",
     "text": [
      "             A     B     C   D\n",
      "2017-09-25   0   NaN   2.0   3\n",
      "2017-09-26   4   5.0   NaN   7\n",
      "2017-09-27   8   9.0  10.0  11\n",
      "2017-09-28  12  13.0  14.0  15\n",
      "2017-09-29  16  17.0  18.0  19\n",
      "2017-09-30  20  21.0  22.0  23\n",
      "             A   D\n",
      "2017-09-25   0   3\n",
      "2017-09-26   4   7\n",
      "2017-09-27   8  11\n",
      "2017-09-28  12  15\n",
      "2017-09-29  16  19\n",
      "2017-09-30  20  23\n",
      "             A     B     C   D\n",
      "2017-09-25   0   NaN   2.0   3\n",
      "2017-09-26   4   5.0   NaN   7\n",
      "2017-09-27   8   9.0  10.0  11\n",
      "2017-09-28  12  13.0  14.0  15\n",
      "2017-09-29  16  17.0  18.0  19\n",
      "2017-09-30  20  21.0  22.0  23\n",
      "             A     B     C   D\n",
      "2017-09-25   0   0.0   2.0   3\n",
      "2017-09-26   4   5.0   0.0   7\n",
      "2017-09-27   8   9.0  10.0  11\n",
      "2017-09-28  12  13.0  14.0  15\n",
      "2017-09-29  16  17.0  18.0  19\n",
      "2017-09-30  20  21.0  22.0  23\n",
      "                A      B      C      D\n",
      "2017-09-25  False   True  False  False\n",
      "2017-09-26  False  False   True  False\n",
      "2017-09-27  False  False  False  False\n",
      "2017-09-28  False  False  False  False\n",
      "2017-09-29  False  False  False  False\n",
      "2017-09-30  False  False  False  False\n",
      "True\n"
     ]
    }
   ],
   "source": [
    "import pandas as pd\n",
    "import numpy as np\n",
    "dates = pd.date_range('20170925',periods=6)\n",
    "df = pd.DataFrame(np.arange(24).reshape((6,4)),index=dates, \n",
    "                  columns=['A','B','C','D'])\n",
    "\n",
    "df.iloc[0,1] = np.nan\n",
    "df.iloc[1,2] = np.nan\n",
    "print(df)\n",
    "print(df.dropna(axis=1,how='any')) #how = {'any','all'} axis = 1 行\n",
    "print(df.dropna(axis=1,how='all'))\n",
    "\n",
    "print(df.fillna(value=0))\n",
    "print(df.isnull())\n",
    "print(np.any(df.isnull()) == True)"
   ]
  },
  {
   "cell_type": "code",
   "execution_count": null,
   "metadata": {
    "collapsed": true
   },
   "outputs": [],
   "source": []
  }
 ],
 "metadata": {
  "kernelspec": {
   "display_name": "Python 3",
   "language": "python",
   "name": "python3"
  },
  "language_info": {
   "codemirror_mode": {
    "name": "ipython",
    "version": 3
   },
   "file_extension": ".py",
   "mimetype": "text/x-python",
   "name": "python",
   "nbconvert_exporter": "python",
   "pygments_lexer": "ipython3",
   "version": "3.6.1"
  }
 },
 "nbformat": 4,
 "nbformat_minor": 2
}
