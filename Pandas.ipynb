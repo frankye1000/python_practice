{
 "cells": [
  {
   "cell_type": "code",
   "execution_count": 7,
   "metadata": {},
   "outputs": [
    {
     "name": "stdout",
     "output_type": "stream",
     "text": [
      "0     1.0\n",
      "1     3.0\n",
      "2     6.0\n",
      "3     NaN\n",
      "4    44.0\n",
      "5     1.0\n",
      "dtype: float64\n",
      "DatetimeIndex(['2016-01-01', '2016-01-02', '2016-01-03', '2016-01-04',\n",
      "               '2016-01-05', '2016-01-06'],\n",
      "              dtype='datetime64[ns]', freq='D')\n"
     ]
    }
   ],
   "source": [
    "import pandas as pd\n",
    "import numpy as np\n",
    "s = pd.Series([1,3,6,np.nan,44,1])\n",
    "print(s)\n",
    "\n",
    "dates = pd.date_range('20160101',periods=6)\n",
    "print(dates)"
   ]
  },
  {
   "cell_type": "code",
   "execution_count": 15,
   "metadata": {},
   "outputs": [
    {
     "name": "stdout",
     "output_type": "stream",
     "text": [
      "                   a         b         c         d\n",
      "2016-01-01  0.225436 -1.095653 -1.659226 -1.284484\n",
      "2016-01-02  0.976478  0.486576  0.923784  0.283447\n",
      "2016-01-03 -1.222743  0.678747  1.186879 -0.971154\n",
      "2016-01-04 -0.257376 -0.032613 -0.408025 -1.456929\n",
      "2016-01-05 -0.922563 -0.420999 -1.824939 -0.709755\n",
      "2016-01-06 -0.319349  0.129263 -0.045207  2.012092\n",
      "   0  1   2   3\n",
      "0  0  1   2   3\n",
      "1  4  5   6   7\n",
      "2  8  9  10  11\n"
     ]
    }
   ],
   "source": [
    "import pandas as pd\n",
    "import numpy as np\n",
    "\n",
    "df = pd.DataFrame(np.random.randn(6,4),\n",
    "                  index=dates,\n",
    "                  columns=['a','b','c','d'])#我有定義index為日期，colums為abcd\n",
    "print(df)\n",
    "\n",
    "df1 = pd.DataFrame(np.arange(12).reshape((3,4))) #這裡是預設值\n",
    "print(df1) \n",
    "\n"
   ]
  },
  {
   "cell_type": "code",
   "execution_count": 29,
   "metadata": {},
   "outputs": [
    {
     "name": "stdout",
     "output_type": "stream",
     "text": [
      "     A          B  C    D      E    F\n",
      "0  1.0 2013-01-02  3  1.0   test  foo\n",
      "1  1.0 2013-01-02  3  1.0  train  foo\n",
      "2  1.0 2013-01-02  3  1.0   test  foo\n",
      "3  1.0 2013-01-02  3  1.0  train  foo\n",
      "A           float64\n",
      "B    datetime64[ns]\n",
      "C             int32\n",
      "D           float32\n",
      "E          category\n",
      "F            object\n",
      "dtype: object\n",
      "Int64Index([0, 1, 2, 3], dtype='int64')\n",
      "Index(['A', 'B', 'C', 'D', 'E', 'F'], dtype='object')\n",
      "[[1.0 Timestamp('2013-01-02 00:00:00') 3 1.0 'test' 'foo']\n",
      " [1.0 Timestamp('2013-01-02 00:00:00') 3 1.0 'train' 'foo']\n",
      " [1.0 Timestamp('2013-01-02 00:00:00') 3 1.0 'test' 'foo']\n",
      " [1.0 Timestamp('2013-01-02 00:00:00') 3 1.0 'train' 'foo']]\n",
      "         A    C    D\n",
      "count  4.0  4.0  4.0\n",
      "mean   1.0  3.0  1.0\n",
      "std    0.0  0.0  0.0\n",
      "min    1.0  3.0  1.0\n",
      "25%    1.0  3.0  1.0\n",
      "50%    1.0  3.0  1.0\n",
      "75%    1.0  3.0  1.0\n",
      "max    1.0  3.0  1.0\n",
      "                     0                    1                    2  \\\n",
      "A                    1                    1                    1   \n",
      "B  2013-01-02 00:00:00  2013-01-02 00:00:00  2013-01-02 00:00:00   \n",
      "C                    3                    3                    3   \n",
      "D                    1                    1                    1   \n",
      "E                 test                train                 test   \n",
      "F                  foo                  foo                  foo   \n",
      "\n",
      "                     3  \n",
      "A                    1  \n",
      "B  2013-01-02 00:00:00  \n",
      "C                    3  \n",
      "D                    1  \n",
      "E                train  \n",
      "F                  foo  \n"
     ]
    }
   ],
   "source": [
    "#用字典建立frame\n",
    "df2 = pd.DataFrame({'A':1.,\n",
    "                   'B':pd.Timestamp('20130102'),\n",
    "                   'C':np.array([3]*4,dtype='int32'),\n",
    "                   'D':pd.Series(1,index=list(range(4)),dtype='float32'),\n",
    "                   'E':pd.Categorical([\"test\",\"train\",\"test\",\"train\"]),\n",
    "                   'F':'foo'})\n",
    "print(df2)\n",
    "print(df2.dtypes)\n",
    "print(df2.index)\n",
    "print(df2.columns)\n",
    "print(df2.values)\n",
    "print(df2.describe())\n",
    "print(df2.T)\n"
   ]
  },
  {
   "cell_type": "code",
   "execution_count": 41,
   "metadata": {},
   "outputs": [
    {
     "name": "stdout",
     "output_type": "stream",
     "text": [
      "     A          B  C    D      E    F\n",
      "0  1.0 2013-01-02  3  1.0   test  foo\n",
      "2  1.0 2013-01-02  3  1.0   test  foo\n",
      "1  1.0 2013-01-02  3  1.0  train  foo\n",
      "3  1.0 2013-01-02  3  1.0  train  foo\n",
      "     A          B  C    D      E    F\n",
      "0  1.0 2013-01-02  3  1.0   test  foo\n",
      "1  1.0 2013-01-02  3  1.0  train  foo\n",
      "2  1.0 2013-01-02  3  1.0   test  foo\n",
      "3  1.0 2013-01-02  3  1.0  train  foo\n",
      "     F      E    D  C          B    A\n",
      "0  foo   test  1.0  3 2013-01-02  1.0\n",
      "1  foo  train  1.0  3 2013-01-02  1.0\n",
      "2  foo   test  1.0  3 2013-01-02  1.0\n",
      "3  foo  train  1.0  3 2013-01-02  1.0\n",
      "     A          B  C    D      E    F\n",
      "3  1.0 2013-01-02  3  1.0  train  foo\n",
      "2  1.0 2013-01-02  3  1.0   test  foo\n",
      "1  1.0 2013-01-02  3  1.0  train  foo\n",
      "0  1.0 2013-01-02  3  1.0   test  foo\n"
     ]
    }
   ],
   "source": [
    "#用字典建立frame\n",
    "df2 = pd.DataFrame({'A':1.,\n",
    "                   'B':pd.Timestamp('20130102'),\n",
    "                   'C':np.array([3]*4,dtype='int32'),\n",
    "                   'D':pd.Series(1,index=list(range(4)),dtype='float32'),\n",
    "                   'E':pd.Categorical([\"test\",\"train\",\"test\",\"train\"]),\n",
    "                   'F':'foo'})\n",
    "print(df2.sort_values(by='E'))\n",
    "print(df2)\n",
    "print(df2.sort_index(axis=1, ascending=False)) #axis = 1 行 , axis = 0 列\n",
    "print(df2.sort_index(axis=0, ascending=False))"
   ]
  }
 ],
 "metadata": {
  "kernelspec": {
   "display_name": "Python 3",
   "language": "python",
   "name": "python3"
  },
  "language_info": {
   "codemirror_mode": {
    "name": "ipython",
    "version": 3
   },
   "file_extension": ".py",
   "mimetype": "text/x-python",
   "name": "python",
   "nbconvert_exporter": "python",
   "pygments_lexer": "ipython3",
   "version": "3.6.1"
  }
 },
 "nbformat": 4,
 "nbformat_minor": 2
}
