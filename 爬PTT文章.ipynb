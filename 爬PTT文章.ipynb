{
 "cells": [
  {
   "cell_type": "code",
   "execution_count": 1,
   "metadata": {},
   "outputs": [
    {
     "name": "stdout",
     "output_type": "stream",
     "text": [
      "\n",
      "[新聞] 內部電腦遇駭傳被盜18億 遠銀：低於1500\n",
      " 10/06 KZS\n",
      "\n",
      "[新聞] 尼龍粒出貨價格上調帶動，集盛9月營收走\n",
      " 10/07 EZ5566\n",
      "\n",
      "[標的] 3481群創\n",
      " 10/07 tsaonimei\n",
      "\n",
      "Re: [標的] 3481群創\n",
      " 10/07 airwaves0612\n",
      "\n",
      "[新聞] 台灣巨砲陳金鋒 擔任《天堂M》代言人\n",
      " 10/07 kof70380\n",
      "\n",
      "Re: [新聞] 顧立雄：哪有一個國家 稅制長期獨厚外國\n",
      " 10/07 etan\n",
      "\n",
      "Re: [新聞] 內部電腦遇駭傳被盜18億 遠銀：低於1500\n",
      " 10/07 boyoyoyo\n",
      "\n",
      "[新聞] 儒鴻 106年9月營收20.83億、年減4.13%\n",
      " 10/07 lolic\n",
      "\n",
      "[新聞] 中電9月營收\n",
      " 10/07 hrma\n",
      "\n",
      "[標的] 電動車的電池台灣哪些公司有機會?\n",
      " 10/07 foxconn1080\n",
      "\n",
      "[新聞] 昱晶報喜 Q3單季由虧轉盈\n",
      " 10/07 f204137\n",
      "\n",
      "[新聞] 原相9月營收\n",
      " 10/07 b551122\n",
      "\n",
      "[新聞] 大中9月營收\n",
      " 10/07 b551122\n",
      "\n",
      "[新聞] 3289宜特九月營收\n",
      " 10/07 iphone1\n",
      "\n",
      "Re: [標的] 2408 南亞科\n",
      " 10/07 airwaves0612\n",
      "\n",
      "[新聞] 南北呼應 高雄可寧衛集團全面調薪5%\n",
      " 10/07 cjol\n",
      "\n",
      "[標的] 本週程式選股結果\n",
      " 10/07 b89207040\n",
      "\n",
      "Re: [新聞] 《業績-金融》玉山金前9月EPS 1.18元\n",
      " 10/07 chachagoing\n",
      "\n",
      "Re: [新聞] 顧立雄：哪有一個國家 稅制長期獨厚外國\n",
      " 10/07 chungrew\n",
      "\n",
      "[請益] 權證玩波段的可能性？\n",
      " 10/07 winson910343\n"
     ]
    },
    {
     "name": "stderr",
     "output_type": "stream",
     "text": [
      "C:\\Users\\Java\\Anaconda3\\lib\\site-packages\\bs4\\__init__.py:181: UserWarning: No parser was explicitly specified, so I'm using the best available HTML parser for this system (\"lxml\"). This usually isn't a problem, but if you run this code on another system, or in a different virtual environment, it may use a different parser and behave differently.\n",
      "\n",
      "The code that caused this warning is on line 193 of the file C:\\Users\\Java\\Anaconda3\\lib\\runpy.py. To get rid of this warning, change code that looks like this:\n",
      "\n",
      " BeautifulSoup(YOUR_MARKUP})\n",
      "\n",
      "to this:\n",
      "\n",
      " BeautifulSoup(YOUR_MARKUP, \"lxml\")\n",
      "\n",
      "  markup_type=markup_type))\n"
     ]
    }
   ],
   "source": [
    "import requests\n",
    "from bs4 import BeautifulSoup\n",
    "res = requests.get('https://www.ptt.cc/bbs/Stock/index3716.html')\n",
    "soup = BeautifulSoup(res.text)\n",
    "\n",
    "for entry in (soup.select('.r-ent')):\n",
    "    print (entry.select('.title')[0].text,entry.select('.date')[0].text,entry.select('.author')[0].text)"
   ]
  }
 ],
 "metadata": {
  "kernelspec": {
   "display_name": "Python 3",
   "language": "python",
   "name": "python3"
  },
  "language_info": {
   "codemirror_mode": {
    "name": "ipython",
    "version": 3
   },
   "file_extension": ".py",
   "mimetype": "text/x-python",
   "name": "python",
   "nbconvert_exporter": "python",
   "pygments_lexer": "ipython3",
   "version": "3.6.1"
  }
 },
 "nbformat": 4,
 "nbformat_minor": 2
}
