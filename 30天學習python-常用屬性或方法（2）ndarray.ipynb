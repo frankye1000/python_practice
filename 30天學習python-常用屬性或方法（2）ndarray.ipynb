{
 "cells": [
  {
   "cell_type": "markdown",
   "metadata": {},
   "source": [
    "我們在昨天的學習筆記討論了 Python 基本變數類型與資料結構可以應用的屬性或方法，除了基本的資料結構以外，你是否還記得 Python 可以透過引入 numpy 套件之後使用 ndarray 資料結構呢？當時我們在 [第 05 天] 資料結構（2）ndarray 提到，為了解決 Python 的 list 資料結構無法進行 element-wise 的運算，因此使用了 numpy 套件的 ndarray，我們勢必要瞭解她常見的屬性或方法。"
   ]
  },
  {
   "cell_type": "markdown",
   "metadata": {},
   "source": [
    "numpy 與 ndarray 的常用屬性或方法\n",
    "\n",
    "瞭解 ndarray 的概觀\n",
    "\n",
    "ndim 屬性\n",
    "shape 屬性\n",
    "dtype 屬性"
   ]
  },
  {
   "cell_type": "code",
   "execution_count": 9,
   "metadata": {},
   "outputs": [
    {
     "name": "stdout",
     "output_type": "stream",
     "text": [
      "1\n",
      "(6,)\n",
      "int32\n",
      "2\n",
      "(2, 6)\n",
      "int32\n"
     ]
    }
   ],
   "source": [
    "# 瞭解 ndarray 的概觀\n",
    "\n",
    "# ndim 屬性\n",
    "# shape 屬性\n",
    "# dtype 屬性\n",
    "import numpy as np\n",
    "\n",
    "bb104 = [16,15,48,58,25,36]\n",
    "bb104_array = np.array(bb104)\n",
    "\n",
    "print(bb104_array.ndim)# number of dimensions\n",
    "print(bb104_array.shape)# m*n\n",
    "print(bb104_array.dtype)# 資料類型\n",
    "\n",
    "# 2d array\n",
    "bb105 = [[16,87,5,52,65,2],\n",
    "         range(1,7)]\n",
    "bb105_array = np.array(bb105)\n",
    "print(bb105_array.ndim)\n",
    "print(bb105_array.shape)\n",
    "print(bb105_array.dtype)"
   ]
  },
  {
   "cell_type": "code",
   "execution_count": 1,
   "metadata": {},
   "outputs": [
    {
     "name": "stdout",
     "output_type": "stream",
     "text": [
      "[ 0.  0.  0.  0.  0.  0.]\n",
      "-----------------------\n",
      "[[ 0.  0.  0.  0.  0.  0.]\n",
      " [ 0.  0.  0.  0.  0.  0.]]\n",
      "-----------------------\n",
      "[[[  6.23042070e-307   4.67296746e-307]\n",
      "  [  1.69121096e-306   1.95819673e-306]\n",
      "  [  1.33508845e-306   1.33511969e-306]\n",
      "  [  6.23037996e-307   6.23053954e-307]\n",
      "  [  9.34609790e-307   8.45593934e-307]\n",
      "  [  9.34600963e-307   1.86921143e-306]]\n",
      "\n",
      " [[  6.23061763e-307   6.23053954e-307]\n",
      "  [  2.22522597e-306   1.06810268e-306]\n",
      "  [  6.23052935e-307   1.33512376e-306]\n",
      "  [  1.20161118e-306   1.42418172e-306]\n",
      "  [  1.37961641e-306   1.22383391e-307]\n",
      "  [  8.45610231e-307   2.10081501e-312]]]\n",
      "-----------------------\n",
      "[ 0  1  2  3  4  5  6  7  8  9 10]\n"
     ]
    }
   ],
   "source": [
    "# 建立 ndarray\n",
    "\n",
    "# numpy 套件除了 array() 方法可以將 list 轉換成 ndarray，還有其他的方法可以建立 ndarray。\n",
    "\n",
    "# zeros() 方法\n",
    "# empty() 方法\n",
    "# arange() 方法\n",
    "\n",
    "import numpy as np\n",
    "print(np.zeros(6)) # 6個元素均為零的 1d array\n",
    "print(\"-----------------------\")\n",
    "print(np.zeros((2,6))) # 12個元素均為零的 2d array\n",
    "print(\"-----------------------\") # 二十四個元素均為未初始化的值\n",
    "print(np.empty((2,6,2)))\n",
    "print(\"-----------------------\")\n",
    "print(np.arange(11)) # 十一個元素為 0 到 10 的 1d array"
   ]
  },
  {
   "cell_type": "code",
   "execution_count": 7,
   "metadata": {},
   "outputs": [
    {
     "name": "stdout",
     "output_type": "stream",
     "text": [
      "<U2\n",
      "---------------\n",
      "int64\n"
     ]
    }
   ],
   "source": [
    "#轉換變數類型\n",
    "#ndarray 的 astype() 方法可以轉換變數類型。\n",
    "\n",
    "import numpy as np\n",
    "iron = [\"58\",\"84\",\"5\",\"63\",\"14\",]\n",
    "iron_string_array = np.array(iron)\n",
    "\n",
    "print(iron_string_array.dtype)\n",
    "print(\"---------------\")\n",
    "\n",
    "#轉換為int64\n",
    "iron_int_array = iron_string_array.astype(np.int64)\n",
    "print(iron_int_array.dtype)"
   ]
  },
  {
   "cell_type": "markdown",
   "metadata": {},
   "source": [
    "用索引值進行篩選\n",
    "\n",
    "利用 [] 搭配索引值篩選 ndarray，這點與 R 語言作法相同。"
   ]
  },
  {
   "cell_type": "code",
   "execution_count": 18,
   "metadata": {},
   "outputs": [
    {
     "name": "stdout",
     "output_type": "stream",
     "text": [
      "0\n",
      "[0 1 2 3 4]\n",
      "---------------\n",
      "[[0 1 2 3 4]\n",
      " [5 6 7 8 9]]\n",
      "------------\n",
      "[5 6 7 8 9]\n",
      "[1 6]\n",
      "4\n"
     ]
    }
   ],
   "source": [
    "import numpy as np\n",
    "\n",
    "my_array = np.arange(10)\n",
    "print(my_array[0])\n",
    "print(my_array[0:5])\n",
    "print(\"---------------\")\n",
    "\n",
    "my_2d_array = np.array([np.arange(0,5),np.arange(5,10)])\n",
    "print(my_2d_array)\n",
    "print(\"------------\")\n",
    "print(my_2d_array[1,:])#第二列\n",
    "print(my_2d_array[:,1])#第二行\n",
    "print(my_2d_array[0,4])#第一列第五行"
   ]
  },
  {
   "cell_type": "markdown",
   "metadata": {},
   "source": [
    "布林值進行篩選\n",
    "\n",
    "利用布林值（bool）篩選 ndarray。"
   ]
  },
  {
   "cell_type": "code",
   "execution_count": 23,
   "metadata": {},
   "outputs": [
    {
     "name": "stdout",
     "output_type": "stream",
     "text": [
      "[ True  True False  True  True]\n",
      "['web' 'java' 'jdbc' 'html']\n",
      "[ True  True  True  True False]\n",
      "[58 41  2 53]\n"
     ]
    }
   ],
   "source": [
    "import numpy as np\n",
    "\n",
    "irons = [58,41,2,53,45]\n",
    "groups = [\"web\",\"java\",\"python\",\"jdbc\",\"html\"]\n",
    "iron_array = np.array(irons)\n",
    "group_array = np.array(groups)\n",
    "# 用人數去篩選組別\n",
    "print(iron_array>=10)\n",
    "print(group_array[iron_array>=10])\n",
    "\n",
    "# 用組別去篩選人數\n",
    "print(group_array!=\"html\")\n",
    "print(iron_array[group_array!=\"html\"])#除了html以外的人數"
   ]
  },
  {
   "cell_type": "markdown",
   "metadata": {},
   "source": [
    "2d array 轉置\n",
    "\n",
    "使用 T 屬性。"
   ]
  },
  {
   "cell_type": "code",
   "execution_count": 25,
   "metadata": {},
   "outputs": [
    {
     "name": "stdout",
     "output_type": "stream",
     "text": [
      "[[0 1 2 3 4]\n",
      " [5 6 7 8 9]]\n",
      "----------\n",
      "[[0 5]\n",
      " [1 6]\n",
      " [2 7]\n",
      " [3 8]\n",
      " [4 9]]\n"
     ]
    }
   ],
   "source": [
    "import numpy as np\n",
    "my_1d_array = np.arange(10)\n",
    "my_2d_array = my_1d_array.reshape((2,5))\n",
    "print(my_2d_array)\n",
    "print(\"----------\")\n",
    "print(my_2d_array.T)"
   ]
  },
  {
   "cell_type": "markdown",
   "metadata": {},
   "source": [
    "numpy 的 where 方法\n",
    "\n",
    "透過 numpy 的 where() 方法在 ndarray 中進行流程控制。"
   ]
  },
  {
   "cell_type": "code",
   "execution_count": 28,
   "metadata": {},
   "outputs": [
    {
     "name": "stdout",
     "output_type": "stream",
     "text": [
      "[ 58.   6.  47.  19.  45.  nan]\n"
     ]
    },
    {
     "data": {
      "text/plain": [
       "array([ 58.,   6.,  47.,  19.,  45.,  71.])"
      ]
     },
     "execution_count": 28,
     "metadata": {},
     "output_type": "execute_result"
    }
   ],
   "source": [
    "import numpy as np\n",
    "\n",
    "iron_array = np.array([58,6,47,19,45,np.nan])\n",
    "print(iron_array)\n",
    "np.where(np.isnan(iron_array),71,iron_array)\n",
    "#先把non值剔除，再加入71，在印出iron_array"
   ]
  },
  {
   "cell_type": "markdown",
   "metadata": {},
   "source": [
    "排序\n",
    "\n",
    "透過 sort() 方法。"
   ]
  },
  {
   "cell_type": "code",
   "execution_count": 29,
   "metadata": {},
   "outputs": [
    {
     "name": "stdout",
     "output_type": "stream",
     "text": [
      "[56  8 19 14  6 71]\n",
      "[ 6  8 14 19 56 71]\n"
     ]
    }
   ],
   "source": [
    "import numpy as np\n",
    "\n",
    "ironmen_array = np.array([56, 8, 19, 14, 6, 71])\n",
    "print(ironmen_array)\n",
    "ironmen_array.sort()\n",
    "print(ironmen_array)"
   ]
  },
  {
   "cell_type": "markdown",
   "metadata": {},
   "source": [
    "隨機變數\n",
    "\n",
    "透過 numpy 的 random() 方法可以生成隨機變數。"
   ]
  },
  {
   "cell_type": "code",
   "execution_count": 34,
   "metadata": {},
   "outputs": [
    {
     "name": "stdout",
     "output_type": "stream",
     "text": [
      "[-0.13399817 -1.30211355  1.24088828 -1.96556139  0.33944173  1.14917717\n",
      " -0.65618036 -1.53172414  0.36949634  0.41421569]\n",
      "---------\n",
      "[ 0.20370097  0.08827768  0.77526483  0.38403757  0.86796225  0.53651484\n",
      "  0.78787549  0.84263158  0.05138973  0.5960867 ]\n"
     ]
    }
   ],
   "source": [
    "import numpy as np\n",
    "\n",
    "normal_samples = np.random.normal(size = 10)\n",
    "uniform_samples = np.random.uniform(size = 10)\n",
    "\n",
    "print(normal_samples)\n",
    "print(\"---------\")\n",
    "print(uniform_samples)"
   ]
  }
 ],
 "metadata": {
  "kernelspec": {
   "display_name": "Python 3",
   "language": "python",
   "name": "python3"
  },
  "language_info": {
   "codemirror_mode": {
    "name": "ipython",
    "version": 3
   },
   "file_extension": ".py",
   "mimetype": "text/x-python",
   "name": "python",
   "nbconvert_exporter": "python",
   "pygments_lexer": "ipython3",
   "version": "3.6.1"
  }
 },
 "nbformat": 4,
 "nbformat_minor": 2
}
